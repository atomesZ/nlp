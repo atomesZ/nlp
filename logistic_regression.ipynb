{
 "cells": [
  {
   "cell_type": "code",
   "execution_count": 1,
   "metadata": {},
   "outputs": [
    {
     "name": "stderr",
     "output_type": "stream",
     "text": [
      "Reusing dataset imdb (C:\\Users\\segod\\.cache\\huggingface\\datasets\\imdb\\plain_text\\1.0.0\\e3c66f1788a67a89c7058d97ff62b6c30531e05b549de56d3ab91891f0561f9a)\n"
     ]
    },
    {
     "data": {
      "application/vnd.jupyter.widget-view+json": {
       "model_id": "ef91dc9acac645068cfc6be662935fad",
       "version_major": 2,
       "version_minor": 0
      },
      "text/plain": [
       "  0%|          | 0/3 [00:00<?, ?it/s]"
      ]
     },
     "metadata": {},
     "output_type": "display_data"
    }
   ],
   "source": [
    "from datasets import load_dataset\n",
    "from sklearn.metrics import accuracy_score\n",
    "from sklearn.metrics import precision_recall_fscore_support\n",
    "\n",
    "dataset = load_dataset(\"imdb\")"
   ]
  },
  {
   "cell_type": "code",
   "execution_count": 2,
   "metadata": {},
   "outputs": [],
   "source": [
    "x_train = dataset[\"train\"][:][\"text\"]\n",
    "y_train = dataset[\"train\"][:][\"label\"]\n",
    "\n",
    "x_test = dataset[\"test\"][:][\"text\"]\n",
    "y_test = dataset[\"test\"][:][\"label\"]"
   ]
  },
  {
   "cell_type": "markdown",
   "metadata": {},
   "source": [
    "-----------------------------------"
   ]
  },
  {
   "cell_type": "markdown",
   "metadata": {},
   "source": [
    "## Logistic Regression"
   ]
  },
  {
   "cell_type": "code",
   "execution_count": 3,
   "metadata": {},
   "outputs": [],
   "source": [
    "import pandas as pd\n",
    "import numpy as np"
   ]
  },
  {
   "cell_type": "markdown",
   "metadata": {},
   "source": [
    "Use the following features to start with.\n",
    "\n",
    "    1 if \"no\" appear in the doc, 0 otherwise\n",
    "    The count of first and second pronouns in the document\n",
    "    1 if \"!\" is in the document, 0 otherwise\n",
    "    log(word count in the document)\n",
    "    Number of words in the document which are in the positive lexicon\n",
    "    Number of words in the document which are in the negative lexicon\n"
   ]
  },
  {
   "cell_type": "code",
   "execution_count": 4,
   "metadata": {},
   "outputs": [
    {
     "data": {
      "text/html": [
       "<div>\n",
       "<style scoped>\n",
       "    .dataframe tbody tr th:only-of-type {\n",
       "        vertical-align: middle;\n",
       "    }\n",
       "\n",
       "    .dataframe tbody tr th {\n",
       "        vertical-align: top;\n",
       "    }\n",
       "\n",
       "    .dataframe thead th {\n",
       "        text-align: right;\n",
       "    }\n",
       "</style>\n",
       "<table border=\"1\" class=\"dataframe\">\n",
       "  <thead>\n",
       "    <tr style=\"text-align: right;\">\n",
       "      <th></th>\n",
       "      <th>TOKEN</th>\n",
       "      <th>MEAN-SENTIMENT-RATING</th>\n",
       "      <th>STANDARD DEVIATION</th>\n",
       "      <th>RAW-HUMAN-SENTIMENT-RATINGS</th>\n",
       "    </tr>\n",
       "  </thead>\n",
       "  <tbody>\n",
       "    <tr>\n",
       "      <th>0</th>\n",
       "      <td>$:</td>\n",
       "      <td>-1.5</td>\n",
       "      <td>0.80623</td>\n",
       "      <td>[-1, -1, -1, -1, -3, -1, -3, -1, -2, -1]</td>\n",
       "    </tr>\n",
       "    <tr>\n",
       "      <th>1</th>\n",
       "      <td>%)</td>\n",
       "      <td>-0.4</td>\n",
       "      <td>1.01980</td>\n",
       "      <td>[-1, 0, -1, 0, 0, -2, -1, 2, -1, 0]</td>\n",
       "    </tr>\n",
       "    <tr>\n",
       "      <th>2</th>\n",
       "      <td>%-)</td>\n",
       "      <td>-1.5</td>\n",
       "      <td>1.43178</td>\n",
       "      <td>[-2, 0, -2, -2, -1, 2, -2, -3, -2, -3]</td>\n",
       "    </tr>\n",
       "    <tr>\n",
       "      <th>3</th>\n",
       "      <td>&amp;-:</td>\n",
       "      <td>-0.4</td>\n",
       "      <td>1.42829</td>\n",
       "      <td>[-3, -1, 0, 0, -1, -1, -1, 2, -1, 2]</td>\n",
       "    </tr>\n",
       "    <tr>\n",
       "      <th>4</th>\n",
       "      <td>&amp;:</td>\n",
       "      <td>-0.7</td>\n",
       "      <td>0.64031</td>\n",
       "      <td>[0, -1, -1, -1, 1, -1, -1, -1, -1, -1]</td>\n",
       "    </tr>\n",
       "  </tbody>\n",
       "</table>\n",
       "</div>"
      ],
      "text/plain": [
       "  TOKEN  MEAN-SENTIMENT-RATING  STANDARD DEVIATION  \\\n",
       "0    $:                   -1.5             0.80623   \n",
       "1    %)                   -0.4             1.01980   \n",
       "2   %-)                   -1.5             1.43178   \n",
       "3   &-:                   -0.4             1.42829   \n",
       "4    &:                   -0.7             0.64031   \n",
       "\n",
       "                RAW-HUMAN-SENTIMENT-RATINGS  \n",
       "0  [-1, -1, -1, -1, -3, -1, -3, -1, -2, -1]  \n",
       "1       [-1, 0, -1, 0, 0, -2, -1, 2, -1, 0]  \n",
       "2    [-2, 0, -2, -2, -1, 2, -2, -3, -2, -3]  \n",
       "3      [-3, -1, 0, 0, -1, -1, -1, 2, -1, 2]  \n",
       "4    [0, -1, -1, -1, 1, -1, -1, -1, -1, -1]  "
      ]
     },
     "execution_count": 4,
     "metadata": {},
     "output_type": "execute_result"
    }
   ],
   "source": [
    "vs = pd.read_csv(\"vader_lexicon.txt\", sep=\"\\t\", names=[\"TOKEN\", \"MEAN-SENTIMENT-RATING\", \"STANDARD DEVIATION\", \"RAW-HUMAN-SENTIMENT-RATINGS\"])\n",
    "vs.head()"
   ]
  },
  {
   "cell_type": "code",
   "execution_count": 5,
   "metadata": {},
   "outputs": [],
   "source": [
    "x_df = pd.DataFrame(x_train)"
   ]
  },
  {
   "cell_type": "code",
   "execution_count": 6,
   "metadata": {},
   "outputs": [],
   "source": [
    "vs_dict = dict(zip(vs.TOKEN, vs[\"MEAN-SENTIMENT-RATING\"]))"
   ]
  },
  {
   "cell_type": "code",
   "execution_count": 7,
   "metadata": {},
   "outputs": [],
   "source": [
    "from multiprocessing import Pool\n",
    "\n",
    "nbr_features = 6\n",
    "def get_features(string):\n",
    "    threshold = 2\n",
    "    X0, X1, X2, X3, X4, X5 = 0,0,0,0,0,0\n",
    "    str_split = string.split()\n",
    "\n",
    "    if \"no\" in str_split:\n",
    "        X0 = 1\n",
    "    \n",
    "    \n",
    "    for word in str_split:\n",
    "        if word in vs_dict:\n",
    "            if vs_dict[word] < -threshold:\n",
    "                X5 += 1\n",
    "            elif vs_dict[word] > threshold:\n",
    "                X4 += 1\n",
    "        if word == \"you\" or word == \"I\":\n",
    "            X1 += 1\n",
    "            \n",
    "    X2 = (string.find(\"!\") != -1)\n",
    "    X3 = np.log(len(str_split))\n",
    "    return X0, X1, X2, X3, X4, X5\n",
    "\n",
    "def logistic_transformation(x):\n",
    "    res = np.zeros((len(x), nbr_features))\n",
    "    for i, elt in enumerate(x):\n",
    "        res[i][0], res[i][1],res[i][2],res[i][3],res[i][4], res[i][5] = get_features(elt)\n",
    "    return res"
   ]
  },
  {
   "cell_type": "code",
   "execution_count": 8,
   "metadata": {},
   "outputs": [
    {
     "name": "stdout",
     "output_type": "stream",
     "text": [
      "Wall time: 789 ms\n"
     ]
    }
   ],
   "source": [
    "%%time\n",
    "lr_x_train = logistic_transformation(x_train)"
   ]
  },
  {
   "cell_type": "code",
   "execution_count": 9,
   "metadata": {},
   "outputs": [
    {
     "name": "stdout",
     "output_type": "stream",
     "text": [
      "Wall time: 775 ms\n"
     ]
    }
   ],
   "source": [
    "%%time\n",
    "lr_x_test = logistic_transformation(x_test)"
   ]
  },
  {
   "cell_type": "code",
   "execution_count": 10,
   "metadata": {},
   "outputs": [
    {
     "name": "stdout",
     "output_type": "stream",
     "text": [
      "[[ 0.          4.          1.          4.94164242  0.          1.        ]\n",
      " [ 0.          5.          0.          6.0591232   7.          3.        ]\n",
      " [ 0.          2.          0.          4.99043259  2.          2.        ]\n",
      " ...\n",
      " [ 0.         10.          1.          5.66642669  3.          1.        ]\n",
      " [ 0.          4.          0.          5.44673737  3.          2.        ]\n",
      " [ 0.          3.          0.          4.93447393  0.          2.        ]]\n"
     ]
    }
   ],
   "source": [
    "print(lr_x_train)"
   ]
  },
  {
   "cell_type": "code",
   "execution_count": 11,
   "metadata": {},
   "outputs": [],
   "source": [
    "from sklearn.linear_model import LogisticRegression"
   ]
  },
  {
   "cell_type": "code",
   "execution_count": 12,
   "metadata": {},
   "outputs": [],
   "source": [
    "lr_x_train = np.array(lr_x_train)"
   ]
  },
  {
   "cell_type": "code",
   "execution_count": 13,
   "metadata": {},
   "outputs": [],
   "source": [
    "lr = LogisticRegression(random_state=42).fit(lr_x_train, y_train)"
   ]
  },
  {
   "cell_type": "code",
   "execution_count": 14,
   "metadata": {},
   "outputs": [
    {
     "data": {
      "text/plain": [
       "0.6978"
      ]
     },
     "execution_count": 14,
     "metadata": {},
     "output_type": "execute_result"
    }
   ],
   "source": [
    "y_pred = lr.predict(lr_x_test)\n",
    "accuracy_score(y_test, y_pred)"
   ]
  },
  {
   "cell_type": "markdown",
   "metadata": {},
   "source": [
    "Threshold | Acc\n",
    "----------|-----\n",
    "1 | 0.69668\n",
    "1.8 | 0.69488\n",
    "2 | 0.6978\n",
    "2.2 | 0.69508\n",
    "3 | 0.64512\n",
    "1.2 / -2 | 0.679"
   ]
  },
  {
   "cell_type": "code",
   "execution_count": 15,
   "metadata": {},
   "outputs": [
    {
     "data": {
      "text/plain": [
       "(array([0.68973985, 0.70657532]),\n",
       " array([0.71904, 0.67656]),\n",
       " array([0.70408523, 0.69124198]),\n",
       " array([12500, 12500], dtype=int64))"
      ]
     },
     "execution_count": 15,
     "metadata": {},
     "output_type": "execute_result"
    }
   ],
   "source": [
    "precision_recall_fscore_support(y_test, y_pred)"
   ]
  },
  {
   "cell_type": "code",
   "execution_count": 16,
   "metadata": {},
   "outputs": [],
   "source": [
    "from sklearn.metrics import classification_report\n",
    "import seaborn as sns"
   ]
  },
  {
   "cell_type": "code",
   "execution_count": 19,
   "metadata": {},
   "outputs": [
    {
     "data": {
      "text/plain": [
       "<AxesSubplot:>"
      ]
     },
     "execution_count": 19,
     "metadata": {},
     "output_type": "execute_result"
    },
    {
     "data": {
      "image/png": "[encoded data removed]",
      "text/plain": [
       "<Figure size 576x504 with 2 Axes>"
      ]
     },
     "metadata": {},
     "output_type": "display_data"
    }
   ],
   "source": [
    "clf_report = classification_report(y_test,\n",
    "                                   y_pred,\n",
    "                                   target_names=[\"Positif\", \"Negatif\"],\n",
    "                                   output_dict=True)\n",
    "sns.heatmap(pd.DataFrame(clf_report).iloc[:-1, :-2].T, annot=True, fmt='g')"
   ]
  },
  {
   "cell_type": "code",
   "execution_count": null,
   "metadata": {},
   "outputs": [],
   "source": []
  }
 ],
 "metadata": {
  "kernelspec": {
   "display_name": "Python 3",
   "language": "python",
   "name": "python3"
  },
  "language_info": {
   "codemirror_mode": {
    "name": "ipython",
    "version": 3
   },
   "file_extension": ".py",
   "mimetype": "text/x-python",
   "name": "python",
   "nbconvert_exporter": "python",
   "pygments_lexer": "ipython3",
   "version": "3.8.8"
  }
 },
 "nbformat": 4,
 "nbformat_minor": 4
}
