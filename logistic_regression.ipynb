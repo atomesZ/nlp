{
 "cells": [
  {
   "cell_type": "code",
   "execution_count": 1,
   "metadata": {},
   "outputs": [],
   "source": [
    "#imports for typing\n",
    "import pandas\n",
    "import numpy\n",
    "import sklearn\n",
    "import datasets\n",
    "\n",
    "#Real imports\n",
    "import pandas as pd\n",
    "import numpy as np\n",
    "from datasets import load_dataset\n",
    "from sklearn.metrics import accuracy_score\n",
    "from sklearn.metrics import precision_recall_fscore_support\n",
    "from sklearn.linear_model import LogisticRegression\n",
    "from sklearn.metrics import classification_report\n",
    "from sklearn.metrics import confusion_matrix\n",
    "import seaborn as sns"
   ]
  },
  {
   "cell_type": "code",
   "execution_count": 2,
   "metadata": {},
   "outputs": [
    {
     "name": "stderr",
     "output_type": "stream",
     "text": [
      "Reusing dataset imdb (C:\\Users\\segod\\.cache\\huggingface\\datasets\\imdb\\plain_text\\1.0.0\\e3c66f1788a67a89c7058d97ff62b6c30531e05b549de56d3ab91891f0561f9a)\n"
     ]
    },
    {
     "data": {
      "application/vnd.jupyter.widget-view+json": {
       "model_id": "af7105172f6a4772b9fac4eb222348f8",
       "version_major": 2,
       "version_minor": 0
      },
      "text/plain": [
       "  0%|          | 0/3 [00:00<?, ?it/s]"
      ]
     },
     "metadata": {},
     "output_type": "display_data"
    }
   ],
   "source": [
    "dataset : datasets.dataset_dict.DatasetDict = load_dataset(\"imdb\")"
   ]
  },
  {
   "cell_type": "code",
   "execution_count": 3,
   "metadata": {},
   "outputs": [],
   "source": [
    "x_train : list = dataset[\"train\"][:][\"text\"]\n",
    "y_train : list = dataset[\"train\"][:][\"label\"]\n",
    "\n",
    "x_test : list = dataset[\"test\"][:][\"text\"]\n",
    "y_test : list = dataset[\"test\"][:][\"label\"]"
   ]
  },
  {
   "cell_type": "markdown",
   "metadata": {},
   "source": [
    "-----------------------------------"
   ]
  },
  {
   "cell_type": "markdown",
   "metadata": {},
   "source": [
    "## Logistic Regression"
   ]
  },
  {
   "cell_type": "markdown",
   "metadata": {},
   "source": [
    "We use the following features :\n",
    "\n",
    "    1 if \"no\" appear in the doc, 0 otherwise\n",
    "    The count of first and second pronouns in the document\n",
    "    1 if \"!\" is in the document, 0 otherwise\n",
    "    log(word count in the document)\n",
    "    Number of words in the document which are in the positive lexicon\n",
    "    Number of words in the document which are in the negative lexicon\n",
    "    -----------\n",
    "    Number of \".\"\n",
    "    Number of words of length < 3 characters\n",
    "    Number of \":\" (simplist version of a smiley, could do a regexp)\n"
   ]
  },
  {
   "cell_type": "markdown",
   "metadata": {},
   "source": [
    "#### Vader Sentiment"
   ]
  },
  {
   "cell_type": "code",
   "execution_count": 4,
   "metadata": {},
   "outputs": [
    {
     "data": {
      "text/html": [
       "<div>\n",
       "<style scoped>\n",
       "    .dataframe tbody tr th:only-of-type {\n",
       "        vertical-align: middle;\n",
       "    }\n",
       "\n",
       "    .dataframe tbody tr th {\n",
       "        vertical-align: top;\n",
       "    }\n",
       "\n",
       "    .dataframe thead th {\n",
       "        text-align: right;\n",
       "    }\n",
       "</style>\n",
       "<table border=\"1\" class=\"dataframe\">\n",
       "  <thead>\n",
       "    <tr style=\"text-align: right;\">\n",
       "      <th></th>\n",
       "      <th>TOKEN</th>\n",
       "      <th>MEAN-SENTIMENT-RATING</th>\n",
       "      <th>STANDARD DEVIATION</th>\n",
       "      <th>RAW-HUMAN-SENTIMENT-RATINGS</th>\n",
       "    </tr>\n",
       "  </thead>\n",
       "  <tbody>\n",
       "    <tr>\n",
       "      <th>0</th>\n",
       "      <td>$:</td>\n",
       "      <td>-1.5</td>\n",
       "      <td>0.80623</td>\n",
       "      <td>[-1, -1, -1, -1, -3, -1, -3, -1, -2, -1]</td>\n",
       "    </tr>\n",
       "    <tr>\n",
       "      <th>1</th>\n",
       "      <td>%)</td>\n",
       "      <td>-0.4</td>\n",
       "      <td>1.01980</td>\n",
       "      <td>[-1, 0, -1, 0, 0, -2, -1, 2, -1, 0]</td>\n",
       "    </tr>\n",
       "    <tr>\n",
       "      <th>2</th>\n",
       "      <td>%-)</td>\n",
       "      <td>-1.5</td>\n",
       "      <td>1.43178</td>\n",
       "      <td>[-2, 0, -2, -2, -1, 2, -2, -3, -2, -3]</td>\n",
       "    </tr>\n",
       "    <tr>\n",
       "      <th>3</th>\n",
       "      <td>&amp;-:</td>\n",
       "      <td>-0.4</td>\n",
       "      <td>1.42829</td>\n",
       "      <td>[-3, -1, 0, 0, -1, -1, -1, 2, -1, 2]</td>\n",
       "    </tr>\n",
       "    <tr>\n",
       "      <th>4</th>\n",
       "      <td>&amp;:</td>\n",
       "      <td>-0.7</td>\n",
       "      <td>0.64031</td>\n",
       "      <td>[0, -1, -1, -1, 1, -1, -1, -1, -1, -1]</td>\n",
       "    </tr>\n",
       "  </tbody>\n",
       "</table>\n",
       "</div>"
      ],
      "text/plain": [
       "  TOKEN  MEAN-SENTIMENT-RATING  STANDARD DEVIATION  \\\n",
       "0    $:                   -1.5             0.80623   \n",
       "1    %)                   -0.4             1.01980   \n",
       "2   %-)                   -1.5             1.43178   \n",
       "3   &-:                   -0.4             1.42829   \n",
       "4    &:                   -0.7             0.64031   \n",
       "\n",
       "                RAW-HUMAN-SENTIMENT-RATINGS  \n",
       "0  [-1, -1, -1, -1, -3, -1, -3, -1, -2, -1]  \n",
       "1       [-1, 0, -1, 0, 0, -2, -1, 2, -1, 0]  \n",
       "2    [-2, 0, -2, -2, -1, 2, -2, -3, -2, -3]  \n",
       "3      [-3, -1, 0, 0, -1, -1, -1, 2, -1, 2]  \n",
       "4    [0, -1, -1, -1, 1, -1, -1, -1, -1, -1]  "
      ]
     },
     "execution_count": 4,
     "metadata": {},
     "output_type": "execute_result"
    }
   ],
   "source": [
    "vs : pandas.core.frame.DataFrame = pd.read_csv(\"vader_lexicon.txt\", sep=\"\\t\", names=[\"TOKEN\", \"MEAN-SENTIMENT-RATING\", \"STANDARD DEVIATION\", \"RAW-HUMAN-SENTIMENT-RATINGS\"])\n",
    "vs.head()"
   ]
  },
  {
   "cell_type": "code",
   "execution_count": 5,
   "metadata": {},
   "outputs": [],
   "source": [
    "vs_dict : dict = dict(zip(vs.TOKEN, vs[\"MEAN-SENTIMENT-RATING\"]))"
   ]
  },
  {
   "cell_type": "markdown",
   "metadata": {},
   "source": [
    "#### Feature building"
   ]
  },
  {
   "cell_type": "code",
   "execution_count": 6,
   "metadata": {},
   "outputs": [],
   "source": [
    "def get_features(review : str):\n",
    "    \"\"\"\n",
    "    Get the features of a string for the logistic regression\n",
    "    \n",
    "    Parameters\n",
    "    ----------\n",
    "    review : str\n",
    "        A review of the dataset\n",
    "\n",
    "    Returns\n",
    "    -------\n",
    "    ints\n",
    "        The features\n",
    "    \"\"\"\n",
    "    #init\n",
    "    threshold : float = 1.9\n",
    "    feature_no : int = 0\n",
    "    feature_pronun : int = 0\n",
    "    feature_pos : int = 0\n",
    "    feature_neg : int = 0\n",
    "    feature_wlen : int = 0\n",
    "    str_split : str = review.split()\n",
    "\n",
    "    if \"no\" in str_split:\n",
    "        feature_no = 1\n",
    "    \n",
    "    for word in str_split:\n",
    "        if word in vs_dict:\n",
    "            if vs_dict[word] < -threshold:\n",
    "                feature_neg += 1\n",
    "            elif vs_dict[word] > threshold:\n",
    "                feature_pos += 1\n",
    "        if word == \"you\" or word == \"I\":\n",
    "            feature_pronun += 1\n",
    "        if len(word) <= 3:\n",
    "            feature_wlen += 1\n",
    "    \n",
    "    feature_smiley : int = review.count(\":\")\n",
    "    feature_excl : int = (review.find(\"!\") != -1)\n",
    "    feature_log : float = np.log(len(str_split))\n",
    "    feature_dot : int = review.count(\".\")\n",
    "    return feature_no, feature_pronun, feature_excl, feature_log, feature_pos, feature_neg, feature_dot, feature_wlen, feature_smiley\n",
    "\n",
    "\n",
    "\n",
    "def logistic_transformation(x : list):\n",
    "    \"\"\"\n",
    "    Get the features all dataset x for the logistic regression\n",
    "    \n",
    "    Parameters\n",
    "    ----------\n",
    "    x : list\n",
    "        List of strings\n",
    "\n",
    "    Returns\n",
    "    -------\n",
    "    numpy.ndarray\n",
    "        Features of each string\n",
    "    \"\"\"\n",
    "    nbr_features : int = 9\n",
    "    res : numpy.ndarray = np.zeros((len(x), nbr_features))\n",
    "    for i, elt in enumerate(x):\n",
    "        res[i][0], res[i][1],res[i][2],res[i][3],res[i][4], res[i][5], res[i][6],res[i][8], res[i][7] = get_features(elt)\n",
    "    return res"
   ]
  },
  {
   "cell_type": "code",
   "execution_count": 7,
   "metadata": {},
   "outputs": [
    {
     "name": "stdout",
     "output_type": "stream",
     "text": [
      "Wall time: 1.04 s\n"
     ]
    }
   ],
   "source": [
    "%%time\n",
    "lr_x_train : numpy.ndarray = logistic_transformation(x_train)"
   ]
  },
  {
   "cell_type": "code",
   "execution_count": 8,
   "metadata": {},
   "outputs": [
    {
     "name": "stdout",
     "output_type": "stream",
     "text": [
      "Wall time: 1.01 s\n"
     ]
    }
   ],
   "source": [
    "%%time\n",
    "lr_x_test : numpy.ndarray = logistic_transformation(x_test)"
   ]
  },
  {
   "cell_type": "code",
   "execution_count": 9,
   "metadata": {},
   "outputs": [
    {
     "name": "stdout",
     "output_type": "stream",
     "text": [
      "[[  0.   4.   1. ...  27.   3.  55.]\n",
      " [  0.   5.   0. ...  12.   0. 168.]\n",
      " [  0.   2.   0. ...  11.   0.  54.]\n",
      " ...\n",
      " [  0.  10.   1. ...  18.   2. 123.]\n",
      " [  0.   4.   0. ...   8.   0.  86.]\n",
      " [  0.   3.   0. ...   6.   0.  57.]]\n"
     ]
    }
   ],
   "source": [
    "print(lr_x_train)"
   ]
  },
  {
   "cell_type": "markdown",
   "metadata": {},
   "source": [
    "We compute the logistic regression with the help of sklearn"
   ]
  },
  {
   "cell_type": "code",
   "execution_count": 10,
   "metadata": {},
   "outputs": [],
   "source": [
    "lr : sklearn.linear_model._logistic.LogisticRegression = LogisticRegression(random_state=42, solver=\"saga\", max_iter = 100000, penalty='l2').fit(lr_x_train, y_train)\n",
    "# Without the max_iter, it fails to converge"
   ]
  },
  {
   "cell_type": "markdown",
   "metadata": {},
   "source": [
    "### Prediction\n",
    "The result is predicted :"
   ]
  },
  {
   "cell_type": "code",
   "execution_count": 11,
   "metadata": {},
   "outputs": [
    {
     "data": {
      "text/plain": [
       "0.7034"
      ]
     },
     "execution_count": 11,
     "metadata": {},
     "output_type": "execute_result"
    }
   ],
   "source": [
    "y_pred : numpy.ndarray = lr.predict(lr_x_test)\n",
    "accuracy_score(y_test, y_pred)"
   ]
  },
  {
   "cell_type": "markdown",
   "metadata": {},
   "source": [
    "We obtain an accuracy of 0.70248 with all the features set.\n",
    "\n",
    "#### Without preprocessing\n",
    "Threshold | Acc | Notes\n",
    "----------|-----|------\n",
    "1 | 0.69668\n",
    "1.8 | 0.69488\n",
    "1.9 | 0.70248 | with all new features\n",
    "2 | 0.6978\n",
    "2.2 | 0.69508\n",
    "3 | 0.64512\n",
    "1.2 / -2 | 0.679"
   ]
  },
  {
   "cell_type": "markdown",
   "metadata": {},
   "source": [
    "##### Accuracy when adding the new features\n",
    "\n",
    "Without preprocessing\n",
    "\n",
    "Regularization = l2\n",
    "\n",
    "Threshold = 2\n",
    "\n",
    "* Accuracy without = 0.6978\n",
    "* Accuracy with feature \".\" = 0.69776\n",
    "* Accuracy with feature word len < 3 = 0.69724\n",
    "* Accuracy with feature simplist smiley = 0.69808\n",
    "\n",
    "______________\n",
    "\n",
    "So we can think that the feature word len is not really good but :\n",
    "\n",
    "* Accuracy with feature \".\" and smiley = 0.69748\n",
    "* Accuracy with all new features = 0.69912"
   ]
  },
  {
   "cell_type": "markdown",
   "metadata": {},
   "source": [
    "### Precision, Recall and F1-score"
   ]
  },
  {
   "cell_type": "code",
   "execution_count": 12,
   "metadata": {},
   "outputs": [
    {
     "data": {
      "text/plain": [
       "(array([0.69454434, 0.71310033]),\n",
       " array([0.72616, 0.68064]),\n",
       " array([0.71000039, 0.69649216]),\n",
       " array([12500, 12500], dtype=int64))"
      ]
     },
     "execution_count": 12,
     "metadata": {},
     "output_type": "execute_result"
    }
   ],
   "source": [
    "# The accuracy is not the best to evaluate the prediction, we must see the recall and f1 score to really evaluate it.\n",
    "precision_recall_fscore_support(y_test, y_pred)\n",
    "#But the following array is not the best visually"
   ]
  },
  {
   "cell_type": "code",
   "execution_count": 18,
   "metadata": {},
   "outputs": [
    {
     "data": {
      "text/plain": [
       "<AxesSubplot:>"
      ]
     },
     "execution_count": 18,
     "metadata": {},
     "output_type": "execute_result"
    },
    {
     "data": {
      "image/png": "[encoded data removed]",
      "text/plain": [
       "<Figure size 576x504 with 2 Axes>"
      ]
     },
     "metadata": {},
     "output_type": "display_data"
    }
   ],
   "source": [
    "# So we can use an heatmap\n",
    "clf_report : dict = classification_report(y_test,\n",
    "                                   y_pred,\n",
    "                                   target_names=[\"Positif\", \"Negatif\"],\n",
    "                                   output_dict=True)\n",
    "sns.heatmap(pd.DataFrame(clf_report).iloc[:-1, :-2].T, annot=True, fmt='g')"
   ]
  },
  {
   "cell_type": "markdown",
   "metadata": {},
   "source": [
    "### Confusion matrix"
   ]
  },
  {
   "cell_type": "code",
   "execution_count": 19,
   "metadata": {},
   "outputs": [
    {
     "data": {
      "text/plain": [
       "<AxesSubplot:>"
      ]
     },
     "execution_count": 19,
     "metadata": {},
     "output_type": "execute_result"
    },
    {
     "data": {
      "image/png": "[encoded data removed]",
      "text/plain": [
       "<Figure size 576x504 with 2 Axes>"
      ]
     },
     "metadata": {},
     "output_type": "display_data"
    }
   ],
   "source": [
    "cm : numpy.ndarray = confusion_matrix(y_test, y_pred)\n",
    "sns.heatmap(cm, annot=True, fmt='g')"
   ]
  },
  {
   "cell_type": "markdown",
   "metadata": {},
   "source": [
    "### Regularization \n",
    "We can do it directly in the logistic regression of sklearn as the parameter \"penalty\"\n",
    "\n",
    "Regularization:\n",
    "\n",
    " / | None | l2 |\n",
    "---------|-----|----|\n",
    "Accuracy | 0.70244 | 0.70248 |\n"
   ]
  },
  {
   "cell_type": "markdown",
   "metadata": {},
   "source": [
    "### Solver\n",
    "\n",
    "\n",
    "Accuracy | None | l1 | l2 | Notes\n",
    "---------|------|----|----|-----------\n",
    "lbfgs | 0.70244 | / | 0.70248 | is the by-default solver\n",
    "Saga | 0.70336 | 0.7034 | 0.70444 |  max_iter = 100000\n",
    "newton-cg | 0.70244 | / | / | l2 couldn't converge\n",
    "sag | 0.70296 | / | 0.70296 | \n",
    "liblinear | /  | 0.70276 | 0.70288 |"
   ]
  },
  {
   "cell_type": "code",
   "execution_count": null,
   "metadata": {},
   "outputs": [],
   "source": []
  }
 ],
 "metadata": {
  "kernelspec": {
   "display_name": "Python 3",
   "language": "python",
   "name": "python3"
  },
  "language_info": {
   "codemirror_mode": {
    "name": "ipython",
    "version": 3
   },
   "file_extension": ".py",
   "mimetype": "text/x-python",
   "name": "python",
   "nbconvert_exporter": "python",
   "pygments_lexer": "ipython3",
   "version": "3.8.8"
  }
 },
 "nbformat": 4,
 "nbformat_minor": 4
}
