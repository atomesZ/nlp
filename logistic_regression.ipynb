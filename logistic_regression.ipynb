{
 "cells": [
  {
   "cell_type": "markdown",
   "metadata": {},
   "source": [
    "# Logistic Regression"
   ]
  },
  {
   "cell_type": "code",
   "execution_count": 1,
   "metadata": {},
   "outputs": [
    {
     "name": "stderr",
     "output_type": "stream",
     "text": [
      "[nltk_data] Downloading package stopwords to\n",
      "[nltk_data]     /home/atomesz/nltk_data...\n",
      "[nltk_data]   Package stopwords is already up-to-date!\n",
      "[nltk_data] Downloading package punkt to /home/atomesz/nltk_data...\n",
      "[nltk_data]   Package punkt is already up-to-date!\n"
     ]
    }
   ],
   "source": [
    "#imports for typing\n",
    "import pandas\n",
    "import numpy\n",
    "import sklearn\n",
    "import datasets\n",
    "\n",
    "#Real imports\n",
    "import pandas as pd\n",
    "import numpy as np\n",
    "from datasets import load_dataset\n",
    "from sklearn.metrics import accuracy_score\n",
    "from sklearn.metrics import precision_recall_fscore_support\n",
    "from sklearn.linear_model import LogisticRegression\n",
    "from sklearn.metrics import classification_report\n",
    "from sklearn.metrics import confusion_matrix\n",
    "import seaborn as sns\n",
    "\n",
    "#our library\n",
    "from preprocessing import basic, stemming, lemming"
   ]
  },
  {
   "cell_type": "code",
   "execution_count": 2,
   "metadata": {},
   "outputs": [
    {
     "name": "stderr",
     "output_type": "stream",
     "text": [
      "Reusing dataset imdb (/home/atomesz/.cache/huggingface/datasets/imdb/plain_text/1.0.0/e3c66f1788a67a89c7058d97ff62b6c30531e05b549de56d3ab91891f0561f9a)\n"
     ]
    },
    {
     "data": {
      "application/vnd.jupyter.widget-view+json": {
       "model_id": "149ea884a7dd4f928aac90c83f461c9e",
       "version_major": 2,
       "version_minor": 0
      },
      "text/plain": [
       "  0%|          | 0/3 [00:00<?, ?it/s]"
      ]
     },
     "metadata": {},
     "output_type": "display_data"
    }
   ],
   "source": [
    "dataset : datasets.dataset_dict.DatasetDict = load_dataset(\"imdb\")"
   ]
  },
  {
   "cell_type": "code",
   "execution_count": 3,
   "metadata": {},
   "outputs": [],
   "source": [
    "x_train : list = dataset[\"train\"][:][\"text\"]\n",
    "y_train : list = dataset[\"train\"][:][\"label\"]\n",
    "\n",
    "x_test : list = dataset[\"test\"][:][\"text\"]\n",
    "y_test : list = dataset[\"test\"][:][\"label\"]"
   ]
  },
  {
   "cell_type": "code",
   "execution_count": 4,
   "metadata": {},
   "outputs": [],
   "source": [
    "original_x_test = x_test.copy()"
   ]
  },
  {
   "cell_type": "markdown",
   "metadata": {},
   "source": [
    "## Preprocessing"
   ]
  },
  {
   "cell_type": "code",
   "execution_count": 5,
   "metadata": {},
   "outputs": [],
   "source": [
    "import functools\n",
    "from multiprocessing import Pool\n",
    "\n",
    "preprocess_func = basic\n",
    "remove_stopwords = True\n",
    "\n",
    "with Pool() as p:\n",
    "    x_train : list = p.map(functools.partial(preprocess_func, remove_stopwords=remove_stopwords), x_train)\n",
    "    x_test : list = p.map(functools.partial(preprocess_func, remove_stopwords=remove_stopwords), x_test)\n"
   ]
  },
  {
   "cell_type": "markdown",
   "metadata": {},
   "source": [
    "-----------------------------------"
   ]
  },
  {
   "cell_type": "markdown",
   "metadata": {},
   "source": [
    "## Logistic Regression"
   ]
  },
  {
   "cell_type": "markdown",
   "metadata": {},
   "source": [
    "We use the following features :\n",
    "\n",
    "    1 if \"no\" appear in the doc, 0 otherwise\n",
    "    The count of first and second pronouns in the document\n",
    "    1 if \"!\" is in the document, 0 otherwise\n",
    "    log(word count in the document)\n",
    "    Number of words in the document which are in the positive lexicon\n",
    "    Number of words in the document which are in the negative lexicon\n",
    "    -----------\n",
    "    Number of \".\"\n",
    "    Number of words of length < 3 characters\n",
    "    Number of \":\" (simplist version of a smiley, could do a regexp)\n"
   ]
  },
  {
   "cell_type": "markdown",
   "metadata": {},
   "source": [
    "#### Vader Sentiment"
   ]
  },
  {
   "cell_type": "code",
   "execution_count": 6,
   "metadata": {},
   "outputs": [
    {
     "data": {
      "text/html": [
       "<div>\n",
       "<style scoped>\n",
       "    .dataframe tbody tr th:only-of-type {\n",
       "        vertical-align: middle;\n",
       "    }\n",
       "\n",
       "    .dataframe tbody tr th {\n",
       "        vertical-align: top;\n",
       "    }\n",
       "\n",
       "    .dataframe thead th {\n",
       "        text-align: right;\n",
       "    }\n",
       "</style>\n",
       "<table border=\"1\" class=\"dataframe\">\n",
       "  <thead>\n",
       "    <tr style=\"text-align: right;\">\n",
       "      <th></th>\n",
       "      <th>TOKEN</th>\n",
       "      <th>MEAN-SENTIMENT-RATING</th>\n",
       "      <th>STANDARD DEVIATION</th>\n",
       "      <th>RAW-HUMAN-SENTIMENT-RATINGS</th>\n",
       "    </tr>\n",
       "  </thead>\n",
       "  <tbody>\n",
       "    <tr>\n",
       "      <th>0</th>\n",
       "      <td>$:</td>\n",
       "      <td>-1.5</td>\n",
       "      <td>0.80623</td>\n",
       "      <td>[-1, -1, -1, -1, -3, -1, -3, -1, -2, -1]</td>\n",
       "    </tr>\n",
       "    <tr>\n",
       "      <th>1</th>\n",
       "      <td>%)</td>\n",
       "      <td>-0.4</td>\n",
       "      <td>1.01980</td>\n",
       "      <td>[-1, 0, -1, 0, 0, -2, -1, 2, -1, 0]</td>\n",
       "    </tr>\n",
       "    <tr>\n",
       "      <th>2</th>\n",
       "      <td>%-)</td>\n",
       "      <td>-1.5</td>\n",
       "      <td>1.43178</td>\n",
       "      <td>[-2, 0, -2, -2, -1, 2, -2, -3, -2, -3]</td>\n",
       "    </tr>\n",
       "    <tr>\n",
       "      <th>3</th>\n",
       "      <td>&amp;-:</td>\n",
       "      <td>-0.4</td>\n",
       "      <td>1.42829</td>\n",
       "      <td>[-3, -1, 0, 0, -1, -1, -1, 2, -1, 2]</td>\n",
       "    </tr>\n",
       "    <tr>\n",
       "      <th>4</th>\n",
       "      <td>&amp;:</td>\n",
       "      <td>-0.7</td>\n",
       "      <td>0.64031</td>\n",
       "      <td>[0, -1, -1, -1, 1, -1, -1, -1, -1, -1]</td>\n",
       "    </tr>\n",
       "  </tbody>\n",
       "</table>\n",
       "</div>"
      ],
      "text/plain": [
       "  TOKEN  MEAN-SENTIMENT-RATING  STANDARD DEVIATION  \\\n",
       "0    $:                   -1.5             0.80623   \n",
       "1    %)                   -0.4             1.01980   \n",
       "2   %-)                   -1.5             1.43178   \n",
       "3   &-:                   -0.4             1.42829   \n",
       "4    &:                   -0.7             0.64031   \n",
       "\n",
       "                RAW-HUMAN-SENTIMENT-RATINGS  \n",
       "0  [-1, -1, -1, -1, -3, -1, -3, -1, -2, -1]  \n",
       "1       [-1, 0, -1, 0, 0, -2, -1, 2, -1, 0]  \n",
       "2    [-2, 0, -2, -2, -1, 2, -2, -3, -2, -3]  \n",
       "3      [-3, -1, 0, 0, -1, -1, -1, 2, -1, 2]  \n",
       "4    [0, -1, -1, -1, 1, -1, -1, -1, -1, -1]  "
      ]
     },
     "execution_count": 6,
     "metadata": {},
     "output_type": "execute_result"
    }
   ],
   "source": [
    "vs : pandas.core.frame.DataFrame = pd.read_csv(\"vader_lexicon.txt\", sep=\"\\t\", names=[\"TOKEN\", \"MEAN-SENTIMENT-RATING\", \"STANDARD DEVIATION\", \"RAW-HUMAN-SENTIMENT-RATINGS\"])\n",
    "vs.head()"
   ]
  },
  {
   "cell_type": "code",
   "execution_count": 7,
   "metadata": {},
   "outputs": [],
   "source": [
    "vs_dict : dict = dict(zip(vs.TOKEN, vs[\"MEAN-SENTIMENT-RATING\"]))"
   ]
  },
  {
   "cell_type": "markdown",
   "metadata": {},
   "source": [
    "#### Feature building"
   ]
  },
  {
   "cell_type": "code",
   "execution_count": 8,
   "metadata": {},
   "outputs": [],
   "source": [
    "def get_features(review : str):\n",
    "    \"\"\"\n",
    "    Get the features of a string for the logistic regression\n",
    "    \n",
    "    Parameters\n",
    "    ----------\n",
    "    review : str\n",
    "        A review of the dataset\n",
    "\n",
    "    Returns\n",
    "    -------\n",
    "    ints\n",
    "        The features\n",
    "    \"\"\"\n",
    "    #init\n",
    "    threshold : float = 1.9\n",
    "    feature_no : int = 0\n",
    "    feature_pronun : int = 0\n",
    "    feature_pos : int = 0\n",
    "    feature_neg : int = 0\n",
    "    feature_wlen : int = 0\n",
    "    str_split : str = review.split()\n",
    "\n",
    "    if \"no\" in str_split:\n",
    "        feature_no = 1\n",
    "    \n",
    "    for word in str_split:\n",
    "        if word in vs_dict:\n",
    "            if vs_dict[word] < -threshold:\n",
    "                feature_neg += 1\n",
    "            elif vs_dict[word] > threshold:\n",
    "                feature_pos += 1\n",
    "        if word == \"you\" or word == \"I\":\n",
    "            feature_pronun += 1\n",
    "        if len(word) <= 3:\n",
    "            feature_wlen += 1\n",
    "    \n",
    "    feature_smiley : int = review.count(\":\")\n",
    "    feature_excl : int = (review.find(\"!\") != -1)\n",
    "    feature_log : float = np.log(len(str_split))\n",
    "    feature_dot : int = review.count(\".\")\n",
    "    return feature_no, feature_pronun, feature_excl, feature_log, feature_pos, feature_neg, feature_dot, feature_wlen, feature_smiley\n",
    "\n",
    "\n",
    "\n",
    "def logistic_transformation(x : list):\n",
    "    \"\"\"\n",
    "    Get the features all dataset x for the logistic regression\n",
    "    \n",
    "    Parameters\n",
    "    ----------\n",
    "    x : list\n",
    "        List of strings\n",
    "\n",
    "    Returns\n",
    "    -------\n",
    "    numpy.ndarray\n",
    "        Features of each string\n",
    "    \"\"\"\n",
    "    nbr_features : int = 9\n",
    "    res : numpy.ndarray = np.zeros((len(x), nbr_features))\n",
    "    for i, elt in enumerate(x):\n",
    "        res[i][0], res[i][1],res[i][2],res[i][3],res[i][4], res[i][5], res[i][6],res[i][8], res[i][7] = get_features(elt)\n",
    "    return res"
   ]
  },
  {
   "cell_type": "code",
   "execution_count": 9,
   "metadata": {},
   "outputs": [
    {
     "name": "stdout",
     "output_type": "stream",
     "text": [
      "CPU times: user 608 ms, sys: 5.96 ms, total: 614 ms\n",
      "Wall time: 614 ms\n"
     ]
    }
   ],
   "source": [
    "%%time\n",
    "lr_x_train : numpy.ndarray = logistic_transformation(x_train)"
   ]
  },
  {
   "cell_type": "code",
   "execution_count": 10,
   "metadata": {},
   "outputs": [
    {
     "name": "stdout",
     "output_type": "stream",
     "text": [
      "CPU times: user 568 ms, sys: 1.33 ms, total: 569 ms\n",
      "Wall time: 568 ms\n"
     ]
    }
   ],
   "source": [
    "%%time\n",
    "lr_x_test : numpy.ndarray = logistic_transformation(x_test)"
   ]
  },
  {
   "cell_type": "code",
   "execution_count": 11,
   "metadata": {},
   "outputs": [
    {
     "name": "stdout",
     "output_type": "stream",
     "text": [
      "[[ 0.  0.  0. ...  0.  0.  5.]\n",
      " [ 0.  0.  0. ...  0.  0. 13.]\n",
      " [ 0.  0.  0. ...  0.  0.  3.]\n",
      " ...\n",
      " [ 0.  0.  0. ...  0.  0. 11.]\n",
      " [ 0.  0.  0. ...  0.  0.  3.]\n",
      " [ 0.  0.  0. ...  0.  0.  6.]]\n"
     ]
    }
   ],
   "source": [
    "print(lr_x_train)"
   ]
  },
  {
   "cell_type": "markdown",
   "metadata": {},
   "source": [
    "We compute the logistic regression with the help of sklearn"
   ]
  },
  {
   "cell_type": "code",
   "execution_count": 12,
   "metadata": {},
   "outputs": [],
   "source": [
    "lr : sklearn.linear_model._logistic.LogisticRegression = LogisticRegression(random_state=42, solver=\"saga\", max_iter = 100000, penalty='l2').fit(lr_x_train, y_train)\n",
    "# Without the max_iter, it fails to converge"
   ]
  },
  {
   "cell_type": "markdown",
   "metadata": {},
   "source": [
    "### Prediction\n",
    "The result is predicted :"
   ]
  },
  {
   "cell_type": "code",
   "execution_count": 13,
   "metadata": {},
   "outputs": [
    {
     "data": {
      "text/plain": [
       "0.71272"
      ]
     },
     "execution_count": 13,
     "metadata": {},
     "output_type": "execute_result"
    }
   ],
   "source": [
    "y_pred : numpy.ndarray = lr.predict(lr_x_test)\n",
    "accuracy_score(y_test, y_pred)"
   ]
  },
  {
   "cell_type": "markdown",
   "metadata": {},
   "source": [
    "We obtain an accuracy of 0.70248 with all the features set.\n",
    "\n",
    "#### Without preprocessing\n",
    "Threshold | Acc | Notes\n",
    "----------|-----|------\n",
    "1 | 0.69668\n",
    "1.8 | 0.69488\n",
    "1.9 | 0.70248 | with all new features\n",
    "2 | 0.6978\n",
    "2.2 | 0.69508\n",
    "3 | 0.64512\n",
    "1.2 / -2 | 0.679"
   ]
  },
  {
   "cell_type": "markdown",
   "metadata": {},
   "source": [
    "##### Accuracy when adding the new features\n",
    "\n",
    "Without preprocessing\n",
    "\n",
    "Regularization = l2\n",
    "\n",
    "Threshold = 2\n",
    "\n",
    "* Accuracy without = 0.6978\n",
    "* Accuracy with feature \".\" = 0.69776\n",
    "* Accuracy with feature word len < 3 = 0.69724\n",
    "* Accuracy with feature simplist smiley = 0.69808\n",
    "\n",
    "______________\n",
    "\n",
    "So we can think that the feature word len is not really good but :\n",
    "\n",
    "* Accuracy with feature \".\" and smiley = 0.69748\n",
    "* Accuracy with all new features = 0.69912"
   ]
  },
  {
   "cell_type": "markdown",
   "metadata": {},
   "source": [
    "### Precision, Recall and F1-score"
   ]
  },
  {
   "cell_type": "code",
   "execution_count": 14,
   "metadata": {},
   "outputs": [
    {
     "data": {
      "text/plain": [
       "(array([0.70143939, 0.72533898]),\n",
       " array([0.74072, 0.68472]),\n",
       " array([0.72054475, 0.70444444]),\n",
       " array([12500, 12500]))"
      ]
     },
     "execution_count": 14,
     "metadata": {},
     "output_type": "execute_result"
    }
   ],
   "source": [
    "# The accuracy is not the best to evaluate the prediction, we must see the recall and f1 score to really evaluate it.\n",
    "precision_recall_fscore_support(y_test, y_pred)\n",
    "#But the following array is not the best visually"
   ]
  },
  {
   "cell_type": "code",
   "execution_count": 15,
   "metadata": {},
   "outputs": [
    {
     "data": {
      "text/plain": [
       "<AxesSubplot:>"
      ]
     },
     "execution_count": 15,
     "metadata": {},
     "output_type": "execute_result"
    },
    {
     "data": {
      "image/png": "[encoded data removed]",
      "text/plain": [
       "<Figure size 432x288 with 2 Axes>"
      ]
     },
     "metadata": {
      "needs_background": "light"
     },
     "output_type": "display_data"
    }
   ],
   "source": [
    "# So we can use an heatmap\n",
    "clf_report : dict = classification_report(y_test,\n",
    "                                   y_pred,\n",
    "                                   target_names=[\"Positif\", \"Negatif\"],\n",
    "                                   output_dict=True)\n",
    "sns.heatmap(pd.DataFrame(clf_report).iloc[:-1, :-2].T, annot=True, fmt='g')"
   ]
  },
  {
   "cell_type": "markdown",
   "metadata": {},
   "source": [
    "### Confusion matrix"
   ]
  },
  {
   "cell_type": "code",
   "execution_count": 16,
   "metadata": {},
   "outputs": [
    {
     "data": {
      "text/plain": [
       "<AxesSubplot:>"
      ]
     },
     "execution_count": 16,
     "metadata": {},
     "output_type": "execute_result"
    },
    {
     "data": {
      "image/png": "[encoded data removed]",
      "text/plain": [
       "<Figure size 432x288 with 2 Axes>"
      ]
     },
     "metadata": {
      "needs_background": "light"
     },
     "output_type": "display_data"
    }
   ],
   "source": [
    "cm : numpy.ndarray = confusion_matrix(y_test, y_pred)\n",
    "sns.heatmap(cm, annot=True, fmt='g')"
   ]
  },
  {
   "cell_type": "markdown",
   "metadata": {},
   "source": [
    "### Regularization \n",
    "We can do it directly in the logistic regression of sklearn as the parameter \"penalty\"\n",
    "\n",
    "Regularization:\n",
    "\n",
    " / | None | l2 |\n",
    "---------|-----|----|\n",
    "Accuracy | 0.70244 | 0.70248 |\n"
   ]
  },
  {
   "cell_type": "markdown",
   "metadata": {},
   "source": [
    "### Solver\n",
    "\n",
    "\n",
    "Solver | None | l1 | l2 | Notes\n",
    "---------|------|----|----|-----------\n",
    "lbfgs | 0.70244 | / | 0.70248 | is the by-default solver\n",
    "Saga | 0.70336 | 0.7034 | 0.70444 |  max_iter = 100000\n",
    "newton-cg | 0.70244 | / | / | l2 couldn't converge\n",
    "sag | 0.70296 | / | 0.70296 | \n",
    "liblinear | /  | 0.70276 | 0.70288 |"
   ]
  },
  {
   "cell_type": "markdown",
   "metadata": {},
   "source": [
    "### Preprocessing\n",
    "Preprocessing | Mean Accuracy | AccPos | AccNeg | recallPos | recallNeg | f1scorePos | f1scoreNeg | Notes\n",
    "--------------|---------------|--------|--------|-----------|-----------|------------|------------|-----------\n",
    "None | 0.7034 | 0.69454434 | 0.71310033 | 0.72616 | 0.68064 | 0.71000039 | 0.69649216 |\n",
    "stopswords | 0.71272 | 0.70143939 | 0.72533898 | 0.74072 | 0.68472 | 0.72054475 | 0.70444444 | best strategy\n",
    "stemming | 0.68688 | 0.68333072 | 0.69056942 | 0.69656 | 0.6772 | 0.68988194 | 0.68381937 |\n",
    "lemming | 0.70844 | 0.70136796 | 0.71602686 | 0.726 | 0.69088 | 0.71347144 | 0.7032287 | \n",
    "lemming + stopwords | 0.70412 | 0.69360346 | 0.71584468 | 0.73128 | 0.67696 | 0.71194361 | 0.69585955 | we thought it could be the best strategy but no"
   ]
  },
  {
   "cell_type": "code",
   "execution_count": 17,
   "metadata": {},
   "outputs": [],
   "source": [
    "from analyze import find_wrong_class\n",
    "\n",
    "few_wrong = find_wrong_class(original_x_test, y_pred, y_test)"
   ]
  },
  {
   "cell_type": "code",
   "execution_count": 19,
   "metadata": {},
   "outputs": [
    {
     "data": {
      "text/plain": [
       "[('Four things intrigued me as to this film - firstly, it stars Carly Pope (of \"Popular\" fame), who is always a pleasure to watch. Secdonly, it features brilliant New Zealand actress Rena Owen. Thirdly, it is filmed in association with the New Zealand Film Commission. Fourthly, a friend recommended it to me. However, I was utterly disappointed. The whole storyline is absurd and complicated, with very little resolution. Pope\\'s acting is fine, but Owen is unfortunately under-used. The other actors and actresses are all okay, but I am unfamiliar with them all. Aside from the nice riddles which are littered throughout the movie (and Pope and Owen), this film isn\\'t very good. So the moral of the story is...don\\'t watch it unless you really want to.',\n",
       "  1),\n",
       " ('David Bryce\\'s comments nearby are exceptionally well written and informative as almost say everything I feel about DARLING LILI. This massive musical is so peculiar and over blown, over produced and must have caused ruptures at Paramount in 1970. It cost 22 million dollars! That is simply irresponsible. DARLING LILI must have been greenlit from a board meeting that said \"hey we got that Pink Panther guy and that Sound Of Music gal... lets get this too\" and handed over a blank cheque. The result is a hybrid of GIGI, ZEPPELIN, HALF A SIXPENCE, some MGM 40s song and dance numbers of a style (daisies and boaters!) so hopelessly old fashioned as to be like musical porridge, and MATA HARI dramatics. The production is colossal, lush, breathtaking to view, but the rest: the ridiculous romance, Julie looking befuddled, Hudson already dead, the mistimed comedy, and the astoundingly boring songs deaden this spectacular film into being irritating. LILI is like a twee 1940s mega musical with some vulgar bits to spice it up. STAR! released the year before sadly crashed and now is being finally appreciated for the excellent film is genuinely is... and Andrews looks sublime, mature, especially in the last half hour......but LILI is POPPINS and DOLLY frilly and I believe really killed off the mega musical binge of the 60s..... and made Andrews look like Poppins again... which I believe was not Edwards intention. Paramount must have collectively fainted when they saw this: and with another $20 million festering in CATCH 22, and $12 million in ON A CLEAR DAY and $25 million in PAINT YOUR WAGON....they had a financial abyss of CLEOPATRA proportions with $77 million tied into 4 films with very uncertain futures. Maybe they should have asked seer Daisy Gamble from ON A CLEAR DAY ......LILI was very popular on immediate first release in Australia and ran in 70mm cinemas for months but it failed once out in the subs and the sticks and only ever surfaced after that on one night stands with ON A CLEAR DAY as a Sunday night double. Thank god Paramount had their simple $1million (yes, ONE MILLION DOLLAR) film LOVE STORY and that $4 million dollar gangster pic THE GODFATHER also ready to recover all the $77 million in just the next two years....for just $5m.... incredible!',\n",
       "  1)]"
      ]
     },
     "execution_count": 19,
     "metadata": {},
     "output_type": "execute_result"
    }
   ],
   "source": [
    "few_wrong[-2:]"
   ]
  },
  {
   "cell_type": "markdown",
   "metadata": {},
   "source": [
    "# Analysis of misclassified samples\n",
    "\n",
    "The first one starts really well but concludes on something negative which is not taken in account since we do not take words order into account.\n",
    "\n",
    "The second one is purely ironical.\n",
    "\n",
    "This is why those examples are misclassified."
   ]
  }
 ],
 "metadata": {
  "kernelspec": {
   "display_name": "Python 3",
   "language": "python",
   "name": "python3"
  },
  "language_info": {
   "codemirror_mode": {
    "name": "ipython",
    "version": 3
   },
   "file_extension": ".py",
   "mimetype": "text/x-python",
   "name": "python",
   "nbconvert_exporter": "python",
   "pygments_lexer": "ipython3",
   "version": "3.8.8"
  }
 },
 "nbformat": 4,
 "nbformat_minor": 4
}
