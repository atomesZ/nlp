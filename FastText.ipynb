{
 "cells": [
  {
   "cell_type": "markdown",
   "id": "001c1e5a",
   "metadata": {},
   "source": [
    "# FastText Deep NLP "
   ]
  },
  {
   "cell_type": "markdown",
   "id": "ac6378c0",
   "metadata": {},
   "source": [
    "### Import FastText"
   ]
  },
  {
   "cell_type": "code",
   "execution_count": 1,
   "id": "476a36a0",
   "metadata": {},
   "outputs": [],
   "source": [
    "import fasttext"
   ]
  },
  {
   "cell_type": "markdown",
   "id": "c6b88ecf",
   "metadata": {},
   "source": [
    "### Create Dataset "
   ]
  },
  {
   "cell_type": "code",
   "execution_count": 3,
   "id": "a0612ca2",
   "metadata": {},
   "outputs": [
    {
     "name": "stderr",
     "output_type": "stream",
     "text": [
      "Reusing dataset imdb (/Users/quentinlehelloco/.cache/huggingface/datasets/imdb/plain_text/1.0.0/e3c66f1788a67a89c7058d97ff62b6c30531e05b549de56d3ab91891f0561f9a)\n"
     ]
    },
    {
     "data": {
      "application/vnd.jupyter.widget-view+json": {
       "model_id": "799ca850f76a421cbc939100b44a5e3b",
       "version_major": 2,
       "version_minor": 0
      },
      "text/plain": [
       "  0%|          | 0/3 [00:00<?, ?it/s]"
      ]
     },
     "metadata": {},
     "output_type": "display_data"
    }
   ],
   "source": [
    "from datasets import load_dataset\n",
    "\n",
    "dataset = load_dataset(\"imdb\")"
   ]
  },
  {
   "cell_type": "code",
   "execution_count": 4,
   "id": "b9bdb701",
   "metadata": {},
   "outputs": [],
   "source": [
    "x_train = dataset[\"train\"][:][\"text\"]\n",
    "y_train = dataset[\"train\"][:][\"label\"]\n",
    "\n",
    "x_test = dataset[\"test\"][:][\"text\"]\n",
    "y_test = dataset[\"test\"][:][\"label\"]"
   ]
  },
  {
   "cell_type": "code",
   "execution_count": 5,
   "id": "940624ec",
   "metadata": {
    "scrolled": false
   },
   "outputs": [
    {
     "data": {
      "text/plain": [
       "'Bromwell High is a cartoon comedy. It ran at the same time as some other programs about school life, such as \"Teachers\". My 35 years in the teaching profession lead me to believe that Bromwell High\\'s satire is much closer to reality than is \"Teachers\". The scramble to survive financially, the insightful students who can see right through their pathetic teachers\\' pomp, the pettiness of the whole situation, all remind me of the schools I knew and their students. When I saw the episode in which a student repeatedly tried to burn down the school, I immediately recalled ......... at .......... High. A classic line: INSPECTOR: I\\'m here to sack one of your teachers. STUDENT: Welcome to Bromwell High. I expect that many adults of my age think that Bromwell High is far fetched. What a pity that it isn\\'t!'"
      ]
     },
     "execution_count": 5,
     "metadata": {},
     "output_type": "execute_result"
    }
   ],
   "source": [
    "x_train[0]"
   ]
  },
  {
   "cell_type": "code",
   "execution_count": 14,
   "id": "1f99f338",
   "metadata": {},
   "outputs": [
    {
     "data": {
      "text/plain": [
       "1"
      ]
     },
     "execution_count": 14,
     "metadata": {},
     "output_type": "execute_result"
    }
   ],
   "source": [
    "y_train[0]"
   ]
  },
  {
   "cell_type": "markdown",
   "id": "31a99ea6",
   "metadata": {},
   "source": [
    "### Format dataset for FastText usage "
   ]
  },
  {
   "cell_type": "code",
   "execution_count": 30,
   "id": "cc19e645",
   "metadata": {},
   "outputs": [],
   "source": [
    "import pandas as pd\n",
    "import numpy as np"
   ]
  },
  {
   "cell_type": "code",
   "execution_count": 31,
   "id": "5af43932",
   "metadata": {
    "scrolled": false
   },
   "outputs": [
    {
     "data": {
      "text/html": [
       "<div>\n",
       "<style scoped>\n",
       "    .dataframe tbody tr th:only-of-type {\n",
       "        vertical-align: middle;\n",
       "    }\n",
       "\n",
       "    .dataframe tbody tr th {\n",
       "        vertical-align: top;\n",
       "    }\n",
       "\n",
       "    .dataframe thead th {\n",
       "        text-align: right;\n",
       "    }\n",
       "</style>\n",
       "<table border=\"1\" class=\"dataframe\">\n",
       "  <thead>\n",
       "    <tr style=\"text-align: right;\">\n",
       "      <th></th>\n",
       "      <th>Value</th>\n",
       "      <th>Positive</th>\n",
       "    </tr>\n",
       "  </thead>\n",
       "  <tbody>\n",
       "    <tr>\n",
       "      <th>0</th>\n",
       "      <td>Bromwell High is a cartoon comedy. It ran at t...</td>\n",
       "      <td>1</td>\n",
       "    </tr>\n",
       "    <tr>\n",
       "      <th>1</th>\n",
       "      <td>Homelessness (or Houselessness as George Carli...</td>\n",
       "      <td>1</td>\n",
       "    </tr>\n",
       "    <tr>\n",
       "      <th>2</th>\n",
       "      <td>Brilliant over-acting by Lesley Ann Warren. Be...</td>\n",
       "      <td>1</td>\n",
       "    </tr>\n",
       "    <tr>\n",
       "      <th>3</th>\n",
       "      <td>This is easily the most underrated film inn th...</td>\n",
       "      <td>1</td>\n",
       "    </tr>\n",
       "    <tr>\n",
       "      <th>4</th>\n",
       "      <td>This is not the typical Mel Brooks film. It wa...</td>\n",
       "      <td>1</td>\n",
       "    </tr>\n",
       "  </tbody>\n",
       "</table>\n",
       "</div>"
      ],
      "text/plain": [
       "                                               Value  Positive\n",
       "0  Bromwell High is a cartoon comedy. It ran at t...         1\n",
       "1  Homelessness (or Houselessness as George Carli...         1\n",
       "2  Brilliant over-acting by Lesley Ann Warren. Be...         1\n",
       "3  This is easily the most underrated film inn th...         1\n",
       "4  This is not the typical Mel Brooks film. It wa...         1"
      ]
     },
     "execution_count": 31,
     "metadata": {},
     "output_type": "execute_result"
    }
   ],
   "source": [
    "df = pd.DataFrame({'Value':x_train, 'Positive':y_train})\n",
    "df.head()"
   ]
  },
  {
   "cell_type": "markdown",
   "id": "9d08c0f6",
   "metadata": {},
   "source": [
    "#### We need to add \"\\__label\\__positive\" and \"\\__label\\__negative\" before every document"
   ]
  },
  {
   "cell_type": "code",
   "execution_count": 32,
   "id": "ad1edb2a",
   "metadata": {},
   "outputs": [],
   "source": [
    "def add_label(s, p):\n",
    "    if p == 1:\n",
    "        return \"__label__positive \" + s\n",
    "    else:\n",
    "        return \"__label__negative \" + s "
   ]
  },
  {
   "cell_type": "code",
   "execution_count": 33,
   "id": "40a6e1a1",
   "metadata": {},
   "outputs": [],
   "source": [
    "df[\"Value\"] = df.apply(lambda x: add_label(x.Value, x.Positive), axis=1)"
   ]
  },
  {
   "cell_type": "code",
   "execution_count": 37,
   "id": "721b045c",
   "metadata": {},
   "outputs": [
    {
     "data": {
      "text/html": [
       "<div>\n",
       "<style scoped>\n",
       "    .dataframe tbody tr th:only-of-type {\n",
       "        vertical-align: middle;\n",
       "    }\n",
       "\n",
       "    .dataframe tbody tr th {\n",
       "        vertical-align: top;\n",
       "    }\n",
       "\n",
       "    .dataframe thead th {\n",
       "        text-align: right;\n",
       "    }\n",
       "</style>\n",
       "<table border=\"1\" class=\"dataframe\">\n",
       "  <thead>\n",
       "    <tr style=\"text-align: right;\">\n",
       "      <th></th>\n",
       "      <th>Value</th>\n",
       "      <th>Positive</th>\n",
       "    </tr>\n",
       "  </thead>\n",
       "  <tbody>\n",
       "    <tr>\n",
       "      <th>0</th>\n",
       "      <td>__label__positive Bromwell High is a cartoon c...</td>\n",
       "      <td>1</td>\n",
       "    </tr>\n",
       "    <tr>\n",
       "      <th>1</th>\n",
       "      <td>__label__positive Homelessness (or Houselessne...</td>\n",
       "      <td>1</td>\n",
       "    </tr>\n",
       "    <tr>\n",
       "      <th>2</th>\n",
       "      <td>__label__positive Brilliant over-acting by Les...</td>\n",
       "      <td>1</td>\n",
       "    </tr>\n",
       "    <tr>\n",
       "      <th>3</th>\n",
       "      <td>__label__positive This is easily the most unde...</td>\n",
       "      <td>1</td>\n",
       "    </tr>\n",
       "    <tr>\n",
       "      <th>4</th>\n",
       "      <td>__label__positive This is not the typical Mel ...</td>\n",
       "      <td>1</td>\n",
       "    </tr>\n",
       "    <tr>\n",
       "      <th>...</th>\n",
       "      <td>...</td>\n",
       "      <td>...</td>\n",
       "    </tr>\n",
       "    <tr>\n",
       "      <th>24995</th>\n",
       "      <td>__label__negative Towards the end of the movie...</td>\n",
       "      <td>0</td>\n",
       "    </tr>\n",
       "    <tr>\n",
       "      <th>24996</th>\n",
       "      <td>__label__negative This is the kind of movie th...</td>\n",
       "      <td>0</td>\n",
       "    </tr>\n",
       "    <tr>\n",
       "      <th>24997</th>\n",
       "      <td>__label__negative I saw 'Descent' last night a...</td>\n",
       "      <td>0</td>\n",
       "    </tr>\n",
       "    <tr>\n",
       "      <th>24998</th>\n",
       "      <td>__label__negative Some films that you pick up ...</td>\n",
       "      <td>0</td>\n",
       "    </tr>\n",
       "    <tr>\n",
       "      <th>24999</th>\n",
       "      <td>__label__negative This is one of the dumbest f...</td>\n",
       "      <td>0</td>\n",
       "    </tr>\n",
       "  </tbody>\n",
       "</table>\n",
       "<p>25000 rows × 2 columns</p>\n",
       "</div>"
      ],
      "text/plain": [
       "                                                   Value  Positive\n",
       "0      __label__positive Bromwell High is a cartoon c...         1\n",
       "1      __label__positive Homelessness (or Houselessne...         1\n",
       "2      __label__positive Brilliant over-acting by Les...         1\n",
       "3      __label__positive This is easily the most unde...         1\n",
       "4      __label__positive This is not the typical Mel ...         1\n",
       "...                                                  ...       ...\n",
       "24995  __label__negative Towards the end of the movie...         0\n",
       "24996  __label__negative This is the kind of movie th...         0\n",
       "24997  __label__negative I saw 'Descent' last night a...         0\n",
       "24998  __label__negative Some films that you pick up ...         0\n",
       "24999  __label__negative This is one of the dumbest f...         0\n",
       "\n",
       "[25000 rows x 2 columns]"
      ]
     },
     "execution_count": 37,
     "metadata": {},
     "output_type": "execute_result"
    }
   ],
   "source": [
    "df"
   ]
  },
  {
   "cell_type": "markdown",
   "id": "c835fc53",
   "metadata": {},
   "source": [
    "### Shuffle data"
   ]
  },
  {
   "cell_type": "code",
   "execution_count": 40,
   "id": "33671938",
   "metadata": {
    "scrolled": true
   },
   "outputs": [
    {
     "data": {
      "text/html": [
       "<div>\n",
       "<style scoped>\n",
       "    .dataframe tbody tr th:only-of-type {\n",
       "        vertical-align: middle;\n",
       "    }\n",
       "\n",
       "    .dataframe tbody tr th {\n",
       "        vertical-align: top;\n",
       "    }\n",
       "\n",
       "    .dataframe thead th {\n",
       "        text-align: right;\n",
       "    }\n",
       "</style>\n",
       "<table border=\"1\" class=\"dataframe\">\n",
       "  <thead>\n",
       "    <tr style=\"text-align: right;\">\n",
       "      <th></th>\n",
       "      <th>Value</th>\n",
       "      <th>Positive</th>\n",
       "    </tr>\n",
       "  </thead>\n",
       "  <tbody>\n",
       "    <tr>\n",
       "      <th>0</th>\n",
       "      <td>__label__positive What is so taboo about love?...</td>\n",
       "      <td>1</td>\n",
       "    </tr>\n",
       "    <tr>\n",
       "      <th>1</th>\n",
       "      <td>__label__positive well, this is an Ivan Reitma...</td>\n",
       "      <td>1</td>\n",
       "    </tr>\n",
       "    <tr>\n",
       "      <th>2</th>\n",
       "      <td>__label__positive I tracked the trip two years...</td>\n",
       "      <td>1</td>\n",
       "    </tr>\n",
       "    <tr>\n",
       "      <th>3</th>\n",
       "      <td>__label__negative The movie that shoots scenes...</td>\n",
       "      <td>0</td>\n",
       "    </tr>\n",
       "    <tr>\n",
       "      <th>4</th>\n",
       "      <td>__label__positive I saw this in the theater an...</td>\n",
       "      <td>1</td>\n",
       "    </tr>\n",
       "    <tr>\n",
       "      <th>...</th>\n",
       "      <td>...</td>\n",
       "      <td>...</td>\n",
       "    </tr>\n",
       "    <tr>\n",
       "      <th>24995</th>\n",
       "      <td>__label__positive Strange yet emotionally dist...</td>\n",
       "      <td>1</td>\n",
       "    </tr>\n",
       "    <tr>\n",
       "      <th>24996</th>\n",
       "      <td>__label__negative I saw this at the premiere i...</td>\n",
       "      <td>0</td>\n",
       "    </tr>\n",
       "    <tr>\n",
       "      <th>24997</th>\n",
       "      <td>__label__positive This is by far one of my fav...</td>\n",
       "      <td>1</td>\n",
       "    </tr>\n",
       "    <tr>\n",
       "      <th>24998</th>\n",
       "      <td>__label__positive Ghosts That Still Walk is on...</td>\n",
       "      <td>1</td>\n",
       "    </tr>\n",
       "    <tr>\n",
       "      <th>24999</th>\n",
       "      <td>__label__negative I don't really post comments...</td>\n",
       "      <td>0</td>\n",
       "    </tr>\n",
       "  </tbody>\n",
       "</table>\n",
       "<p>25000 rows × 2 columns</p>\n",
       "</div>"
      ],
      "text/plain": [
       "                                                   Value  Positive\n",
       "0      __label__positive What is so taboo about love?...         1\n",
       "1      __label__positive well, this is an Ivan Reitma...         1\n",
       "2      __label__positive I tracked the trip two years...         1\n",
       "3      __label__negative The movie that shoots scenes...         0\n",
       "4      __label__positive I saw this in the theater an...         1\n",
       "...                                                  ...       ...\n",
       "24995  __label__positive Strange yet emotionally dist...         1\n",
       "24996  __label__negative I saw this at the premiere i...         0\n",
       "24997  __label__positive This is by far one of my fav...         1\n",
       "24998  __label__positive Ghosts That Still Walk is on...         1\n",
       "24999  __label__negative I don't really post comments...         0\n",
       "\n",
       "[25000 rows x 2 columns]"
      ]
     },
     "execution_count": 40,
     "metadata": {},
     "output_type": "execute_result"
    }
   ],
   "source": [
    "df = df.sample(frac=1).reset_index(drop=True)\n",
    "df"
   ]
  },
  {
   "cell_type": "markdown",
   "id": "b5273ecb",
   "metadata": {},
   "source": [
    "### Put data as a file for FastText input"
   ]
  },
  {
   "cell_type": "code",
   "execution_count": 42,
   "id": "f490d633",
   "metadata": {},
   "outputs": [],
   "source": [
    "with open(\"FastText_input.txt\", 'a') as f:\n",
    "    for values in df[\"Value\"]:\n",
    "        f.write(values + \"\\n\")"
   ]
  },
  {
   "cell_type": "markdown",
   "id": "53dba597",
   "metadata": {},
   "source": [
    "### Create model "
   ]
  },
  {
   "cell_type": "code",
   "execution_count": 43,
   "id": "7a18d37d",
   "metadata": {},
   "outputs": [
    {
     "name": "stderr",
     "output_type": "stream",
     "text": [
      "Read 5M words\n",
      "Number of words:  281132\n",
      "Number of labels: 2\n",
      "Progress: 100.0% words/sec/thread: 2515036 lr:  0.000000 avg.loss:  0.428858 ETA:   0h 0m 0s\n"
     ]
    }
   ],
   "source": [
    "model = fasttext.train_supervised(\"FastText_input.txt\")"
   ]
  },
  {
   "cell_type": "markdown",
   "id": "29a042fd",
   "metadata": {},
   "source": [
    "### Save model"
   ]
  },
  {
   "cell_type": "code",
   "execution_count": 44,
   "id": "ccf3524c",
   "metadata": {},
   "outputs": [],
   "source": [
    "model.save_model(\"model_cooking.bin\")"
   ]
  },
  {
   "cell_type": "markdown",
   "id": "19b8ac1c",
   "metadata": {},
   "source": [
    "### Test model predictions"
   ]
  },
  {
   "cell_type": "code",
   "execution_count": 47,
   "id": "c18cce6d",
   "metadata": {},
   "outputs": [
    {
     "data": {
      "text/plain": [
       "(('__label__positive',), array([0.99996102]))"
      ]
     },
     "execution_count": 47,
     "metadata": {},
     "output_type": "execute_result"
    }
   ],
   "source": [
    "model.predict(\"I loved this movie !\")"
   ]
  },
  {
   "cell_type": "code",
   "execution_count": 48,
   "id": "d6d96f1a",
   "metadata": {},
   "outputs": [
    {
     "data": {
      "text/plain": [
       "(('__label__negative',), array([0.97816825]))"
      ]
     },
     "execution_count": 48,
     "metadata": {},
     "output_type": "execute_result"
    }
   ],
   "source": [
    "model.predict(\"I hated this movie !\")"
   ]
  },
  {
   "cell_type": "code",
   "execution_count": 52,
   "id": "5bc3ff65",
   "metadata": {},
   "outputs": [
    {
     "data": {
      "text/plain": [
       "(('__label__positive',), array([0.98001492]))"
      ]
     },
     "execution_count": 52,
     "metadata": {},
     "output_type": "execute_result"
    }
   ],
   "source": [
    "model.predict(\"I did not enjoyed it as I should have\")"
   ]
  },
  {
   "cell_type": "code",
   "execution_count": 53,
   "id": "7b81497d",
   "metadata": {},
   "outputs": [
    {
     "data": {
      "text/plain": [
       "(('__label__negative',), array([0.81813389]))"
      ]
     },
     "execution_count": 53,
     "metadata": {},
     "output_type": "execute_result"
    }
   ],
   "source": [
    "model.predict(\"I really enjoyed how bad the actors played\")"
   ]
  },
  {
   "cell_type": "markdown",
   "id": "a854e453",
   "metadata": {},
   "source": [
    "### Test our accuracy"
   ]
  },
  {
   "cell_type": "code",
   "execution_count": 65,
   "id": "17846d61",
   "metadata": {},
   "outputs": [],
   "source": [
    "def test(x_test, y_test, model):\n",
    "    \"\"\"\n",
    "    Calculate accuracy of predictions for a model\n",
    "    \n",
    "    Input:\n",
    "        x_test : list of sentences to predict\n",
    "        y_test : list of labels for x_test sentences\n",
    "        model : model to predict from\n",
    "        \n",
    "    Output:\n",
    "        Accuracy (ratio of correct predictions)\n",
    "    \"\"\"\n",
    "    number_doc = len(x_test)\n",
    "    correct_pred = 0\n",
    "    \n",
    "    for i in range(number_doc):\n",
    "        pred = model.predict(x_test[i])\n",
    "        \n",
    "        if pred[0][0] == '__label__negative' and y_test[i] == 0 or \\\n",
    "            pred[0][0] == '__label__positive' and y_test[i] == 1:\n",
    "                correct_pred += 1\n",
    "                \n",
    "    return correct_pred / number_doc\n",
    "    "
   ]
  },
  {
   "cell_type": "code",
   "execution_count": 67,
   "id": "ce406bb3",
   "metadata": {},
   "outputs": [
    {
     "name": "stdout",
     "output_type": "stream",
     "text": [
      "CPU times: user 1.61 s, sys: 11.3 ms, total: 1.62 s\n",
      "Wall time: 1.7 s\n"
     ]
    },
    {
     "data": {
      "text/plain": [
       "0.86004"
      ]
     },
     "execution_count": 67,
     "metadata": {},
     "output_type": "execute_result"
    }
   ],
   "source": [
    "%%time\n",
    "test(x_test, y_test, model)"
   ]
  },
  {
   "cell_type": "code",
   "execution_count": null,
   "id": "e56e21b5",
   "metadata": {},
   "outputs": [],
   "source": []
  }
 ],
 "metadata": {
  "kernelspec": {
   "display_name": "Console Py",
   "language": "python",
   "name": "console_py"
  },
  "language_info": {
   "codemirror_mode": {
    "name": "ipython",
    "version": 3
   },
   "file_extension": ".py",
   "mimetype": "text/x-python",
   "name": "python",
   "nbconvert_exporter": "python",
   "pygments_lexer": "ipython3",
   "version": "3.9.1"
  }
 },
 "nbformat": 4,
 "nbformat_minor": 5
}
