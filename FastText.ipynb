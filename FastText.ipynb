{
 "cells": [
  {
   "cell_type": "markdown",
   "id": "bf22f908",
   "metadata": {},
   "source": [
    "# FastText Deep NLP "
   ]
  },
  {
   "cell_type": "markdown",
   "id": "f178bfa4",
   "metadata": {},
   "source": [
    "### Import FastText"
   ]
  },
  {
   "cell_type": "code",
   "execution_count": 70,
   "id": "476a36a0",
   "metadata": {},
   "outputs": [],
   "source": [
    "import fasttext"
   ]
  },
  {
   "cell_type": "markdown",
   "id": "6a29b24e",
   "metadata": {},
   "source": [
    "### Create Dataset "
   ]
  },
  {
   "cell_type": "code",
   "execution_count": 71,
   "id": "8022e045",
   "metadata": {},
   "outputs": [
    {
     "name": "stderr",
     "output_type": "stream",
     "text": [
      "Reusing dataset imdb (/Users/quentinlehelloco/.cache/huggingface/datasets/imdb/plain_text/1.0.0/e3c66f1788a67a89c7058d97ff62b6c30531e05b549de56d3ab91891f0561f9a)\n"
     ]
    },
    {
     "data": {
      "application/vnd.jupyter.widget-view+json": {
       "model_id": "28eecd060e3b456d813f0a114a6f93b3",
       "version_major": 2,
       "version_minor": 0
      },
      "text/plain": [
       "  0%|          | 0/3 [00:00<?, ?it/s]"
      ]
     },
     "metadata": {},
     "output_type": "display_data"
    }
   ],
   "source": [
    "from datasets import load_dataset\n",
    "\n",
    "dataset = load_dataset(\"imdb\")"
   ]
  },
  {
   "cell_type": "code",
   "execution_count": 4,
   "id": "f92bf67e",
   "metadata": {},
   "outputs": [],
   "source": [
    "x_train = dataset[\"train\"][:][\"text\"]\n",
    "y_train = dataset[\"train\"][:][\"label\"]\n",
    "\n",
    "x_test = dataset[\"test\"][:][\"text\"]\n",
    "y_test = dataset[\"test\"][:][\"label\"]"
   ]
  },
  {
   "cell_type": "code",
   "execution_count": 5,
   "id": "2a3eeab6",
   "metadata": {
    "scrolled": false
   },
   "outputs": [
    {
     "data": {
      "text/plain": [
       "'Bromwell High is a cartoon comedy. It ran at the same time as some other programs about school life, such as \"Teachers\". My 35 years in the teaching profession lead me to believe that Bromwell High\\'s satire is much closer to reality than is \"Teachers\". The scramble to survive financially, the insightful students who can see right through their pathetic teachers\\' pomp, the pettiness of the whole situation, all remind me of the schools I knew and their students. When I saw the episode in which a student repeatedly tried to burn down the school, I immediately recalled ......... at .......... High. A classic line: INSPECTOR: I\\'m here to sack one of your teachers. STUDENT: Welcome to Bromwell High. I expect that many adults of my age think that Bromwell High is far fetched. What a pity that it isn\\'t!'"
      ]
     },
     "execution_count": 5,
     "metadata": {},
     "output_type": "execute_result"
    }
   ],
   "source": [
    "x_train[0]"
   ]
  },
  {
   "cell_type": "code",
   "execution_count": 14,
   "id": "e82e80a4",
   "metadata": {},
   "outputs": [
    {
     "data": {
      "text/plain": [
       "1"
      ]
     },
     "execution_count": 14,
     "metadata": {},
     "output_type": "execute_result"
    }
   ],
   "source": [
    "y_train[0]"
   ]
  },
  {
   "cell_type": "markdown",
   "id": "5522edaf",
   "metadata": {},
   "source": [
    "### Format dataset for FastText usage "
   ]
  },
  {
   "cell_type": "code",
   "execution_count": 103,
   "id": "d70dd7e8",
   "metadata": {},
   "outputs": [],
   "source": [
    "import pandas as pd\n",
    "import numpy as np"
   ]
  },
  {
   "cell_type": "code",
   "execution_count": 104,
   "id": "38cb98c7",
   "metadata": {
    "scrolled": false
   },
   "outputs": [
    {
     "data": {
      "text/html": [
       "<div>\n",
       "<style scoped>\n",
       "    .dataframe tbody tr th:only-of-type {\n",
       "        vertical-align: middle;\n",
       "    }\n",
       "\n",
       "    .dataframe tbody tr th {\n",
       "        vertical-align: top;\n",
       "    }\n",
       "\n",
       "    .dataframe thead th {\n",
       "        text-align: right;\n",
       "    }\n",
       "</style>\n",
       "<table border=\"1\" class=\"dataframe\">\n",
       "  <thead>\n",
       "    <tr style=\"text-align: right;\">\n",
       "      <th></th>\n",
       "      <th>Value</th>\n",
       "      <th>Positive</th>\n",
       "    </tr>\n",
       "  </thead>\n",
       "  <tbody>\n",
       "    <tr>\n",
       "      <th>0</th>\n",
       "      <td>Bromwell High is a cartoon comedy. It ran at t...</td>\n",
       "      <td>1</td>\n",
       "    </tr>\n",
       "    <tr>\n",
       "      <th>1</th>\n",
       "      <td>Homelessness (or Houselessness as George Carli...</td>\n",
       "      <td>1</td>\n",
       "    </tr>\n",
       "    <tr>\n",
       "      <th>2</th>\n",
       "      <td>Brilliant over-acting by Lesley Ann Warren. Be...</td>\n",
       "      <td>1</td>\n",
       "    </tr>\n",
       "    <tr>\n",
       "      <th>3</th>\n",
       "      <td>This is easily the most underrated film inn th...</td>\n",
       "      <td>1</td>\n",
       "    </tr>\n",
       "    <tr>\n",
       "      <th>4</th>\n",
       "      <td>This is not the typical Mel Brooks film. It wa...</td>\n",
       "      <td>1</td>\n",
       "    </tr>\n",
       "  </tbody>\n",
       "</table>\n",
       "</div>"
      ],
      "text/plain": [
       "                                               Value  Positive\n",
       "0  Bromwell High is a cartoon comedy. It ran at t...         1\n",
       "1  Homelessness (or Houselessness as George Carli...         1\n",
       "2  Brilliant over-acting by Lesley Ann Warren. Be...         1\n",
       "3  This is easily the most underrated film inn th...         1\n",
       "4  This is not the typical Mel Brooks film. It wa...         1"
      ]
     },
     "execution_count": 104,
     "metadata": {},
     "output_type": "execute_result"
    }
   ],
   "source": [
    "df = pd.DataFrame({'Value':x_train, 'Positive':y_train})\n",
    "df.head()"
   ]
  },
  {
   "cell_type": "markdown",
   "id": "b498b3a0",
   "metadata": {},
   "source": [
    "#### We need to add \"\\__label\\__positive\" and \"\\__label\\__negative\" before every document"
   ]
  },
  {
   "cell_type": "code",
   "execution_count": 105,
   "id": "f25e01ae",
   "metadata": {},
   "outputs": [],
   "source": [
    "def add_label(s, p):\n",
    "    if p == 1:\n",
    "        return \"__label__positive \" + s\n",
    "    else:\n",
    "        return \"__label__negative \" + s "
   ]
  },
  {
   "cell_type": "code",
   "execution_count": 106,
   "id": "3ba02408",
   "metadata": {},
   "outputs": [],
   "source": [
    "df[\"Value\"] = df.apply(lambda x: add_label(x.Value, x.Positive), axis=1)"
   ]
  },
  {
   "cell_type": "code",
   "execution_count": 107,
   "id": "6dde9e25",
   "metadata": {},
   "outputs": [
    {
     "data": {
      "text/html": [
       "<div>\n",
       "<style scoped>\n",
       "    .dataframe tbody tr th:only-of-type {\n",
       "        vertical-align: middle;\n",
       "    }\n",
       "\n",
       "    .dataframe tbody tr th {\n",
       "        vertical-align: top;\n",
       "    }\n",
       "\n",
       "    .dataframe thead th {\n",
       "        text-align: right;\n",
       "    }\n",
       "</style>\n",
       "<table border=\"1\" class=\"dataframe\">\n",
       "  <thead>\n",
       "    <tr style=\"text-align: right;\">\n",
       "      <th></th>\n",
       "      <th>Value</th>\n",
       "      <th>Positive</th>\n",
       "    </tr>\n",
       "  </thead>\n",
       "  <tbody>\n",
       "    <tr>\n",
       "      <th>0</th>\n",
       "      <td>__label__positive Bromwell High is a cartoon c...</td>\n",
       "      <td>1</td>\n",
       "    </tr>\n",
       "    <tr>\n",
       "      <th>1</th>\n",
       "      <td>__label__positive Homelessness (or Houselessne...</td>\n",
       "      <td>1</td>\n",
       "    </tr>\n",
       "    <tr>\n",
       "      <th>2</th>\n",
       "      <td>__label__positive Brilliant over-acting by Les...</td>\n",
       "      <td>1</td>\n",
       "    </tr>\n",
       "    <tr>\n",
       "      <th>3</th>\n",
       "      <td>__label__positive This is easily the most unde...</td>\n",
       "      <td>1</td>\n",
       "    </tr>\n",
       "    <tr>\n",
       "      <th>4</th>\n",
       "      <td>__label__positive This is not the typical Mel ...</td>\n",
       "      <td>1</td>\n",
       "    </tr>\n",
       "    <tr>\n",
       "      <th>...</th>\n",
       "      <td>...</td>\n",
       "      <td>...</td>\n",
       "    </tr>\n",
       "    <tr>\n",
       "      <th>24995</th>\n",
       "      <td>__label__negative Towards the end of the movie...</td>\n",
       "      <td>0</td>\n",
       "    </tr>\n",
       "    <tr>\n",
       "      <th>24996</th>\n",
       "      <td>__label__negative This is the kind of movie th...</td>\n",
       "      <td>0</td>\n",
       "    </tr>\n",
       "    <tr>\n",
       "      <th>24997</th>\n",
       "      <td>__label__negative I saw 'Descent' last night a...</td>\n",
       "      <td>0</td>\n",
       "    </tr>\n",
       "    <tr>\n",
       "      <th>24998</th>\n",
       "      <td>__label__negative Some films that you pick up ...</td>\n",
       "      <td>0</td>\n",
       "    </tr>\n",
       "    <tr>\n",
       "      <th>24999</th>\n",
       "      <td>__label__negative This is one of the dumbest f...</td>\n",
       "      <td>0</td>\n",
       "    </tr>\n",
       "  </tbody>\n",
       "</table>\n",
       "<p>25000 rows × 2 columns</p>\n",
       "</div>"
      ],
      "text/plain": [
       "                                                   Value  Positive\n",
       "0      __label__positive Bromwell High is a cartoon c...         1\n",
       "1      __label__positive Homelessness (or Houselessne...         1\n",
       "2      __label__positive Brilliant over-acting by Les...         1\n",
       "3      __label__positive This is easily the most unde...         1\n",
       "4      __label__positive This is not the typical Mel ...         1\n",
       "...                                                  ...       ...\n",
       "24995  __label__negative Towards the end of the movie...         0\n",
       "24996  __label__negative This is the kind of movie th...         0\n",
       "24997  __label__negative I saw 'Descent' last night a...         0\n",
       "24998  __label__negative Some films that you pick up ...         0\n",
       "24999  __label__negative This is one of the dumbest f...         0\n",
       "\n",
       "[25000 rows x 2 columns]"
      ]
     },
     "execution_count": 107,
     "metadata": {},
     "output_type": "execute_result"
    }
   ],
   "source": [
    "df"
   ]
  },
  {
   "cell_type": "markdown",
   "id": "a7bf086c",
   "metadata": {},
   "source": [
    "### Shuffle data"
   ]
  },
  {
   "cell_type": "code",
   "execution_count": 108,
   "id": "2c009f6b",
   "metadata": {
    "scrolled": true
   },
   "outputs": [
    {
     "data": {
      "text/html": [
       "<div>\n",
       "<style scoped>\n",
       "    .dataframe tbody tr th:only-of-type {\n",
       "        vertical-align: middle;\n",
       "    }\n",
       "\n",
       "    .dataframe tbody tr th {\n",
       "        vertical-align: top;\n",
       "    }\n",
       "\n",
       "    .dataframe thead th {\n",
       "        text-align: right;\n",
       "    }\n",
       "</style>\n",
       "<table border=\"1\" class=\"dataframe\">\n",
       "  <thead>\n",
       "    <tr style=\"text-align: right;\">\n",
       "      <th></th>\n",
       "      <th>Value</th>\n",
       "      <th>Positive</th>\n",
       "    </tr>\n",
       "  </thead>\n",
       "  <tbody>\n",
       "    <tr>\n",
       "      <th>0</th>\n",
       "      <td>__label__positive This is simply a classic fil...</td>\n",
       "      <td>1</td>\n",
       "    </tr>\n",
       "    <tr>\n",
       "      <th>1</th>\n",
       "      <td>__label__negative Wow. Some movies just leave ...</td>\n",
       "      <td>0</td>\n",
       "    </tr>\n",
       "    <tr>\n",
       "      <th>2</th>\n",
       "      <td>__label__negative As an ex-teacher(!) I must c...</td>\n",
       "      <td>0</td>\n",
       "    </tr>\n",
       "    <tr>\n",
       "      <th>3</th>\n",
       "      <td>__label__positive Robert Jannuci,Luca Venantin...</td>\n",
       "      <td>1</td>\n",
       "    </tr>\n",
       "    <tr>\n",
       "      <th>4</th>\n",
       "      <td>__label__positive I would never have thought I...</td>\n",
       "      <td>1</td>\n",
       "    </tr>\n",
       "    <tr>\n",
       "      <th>...</th>\n",
       "      <td>...</td>\n",
       "      <td>...</td>\n",
       "    </tr>\n",
       "    <tr>\n",
       "      <th>24995</th>\n",
       "      <td>__label__positive This project was originally ...</td>\n",
       "      <td>1</td>\n",
       "    </tr>\n",
       "    <tr>\n",
       "      <th>24996</th>\n",
       "      <td>__label__positive When I first watched this, w...</td>\n",
       "      <td>1</td>\n",
       "    </tr>\n",
       "    <tr>\n",
       "      <th>24997</th>\n",
       "      <td>__label__positive Madhur Bhandarkar goes all o...</td>\n",
       "      <td>1</td>\n",
       "    </tr>\n",
       "    <tr>\n",
       "      <th>24998</th>\n",
       "      <td>__label__negative I rented this thinking it mi...</td>\n",
       "      <td>0</td>\n",
       "    </tr>\n",
       "    <tr>\n",
       "      <th>24999</th>\n",
       "      <td>__label__positive When I heard that Adrian Pas...</td>\n",
       "      <td>1</td>\n",
       "    </tr>\n",
       "  </tbody>\n",
       "</table>\n",
       "<p>25000 rows × 2 columns</p>\n",
       "</div>"
      ],
      "text/plain": [
       "                                                   Value  Positive\n",
       "0      __label__positive This is simply a classic fil...         1\n",
       "1      __label__negative Wow. Some movies just leave ...         0\n",
       "2      __label__negative As an ex-teacher(!) I must c...         0\n",
       "3      __label__positive Robert Jannuci,Luca Venantin...         1\n",
       "4      __label__positive I would never have thought I...         1\n",
       "...                                                  ...       ...\n",
       "24995  __label__positive This project was originally ...         1\n",
       "24996  __label__positive When I first watched this, w...         1\n",
       "24997  __label__positive Madhur Bhandarkar goes all o...         1\n",
       "24998  __label__negative I rented this thinking it mi...         0\n",
       "24999  __label__positive When I heard that Adrian Pas...         1\n",
       "\n",
       "[25000 rows x 2 columns]"
      ]
     },
     "execution_count": 108,
     "metadata": {},
     "output_type": "execute_result"
    }
   ],
   "source": [
    "df = df.sample(frac=1).reset_index(drop=True)\n",
    "df"
   ]
  },
  {
   "cell_type": "markdown",
   "id": "016c8bcf",
   "metadata": {},
   "source": [
    "### Put data as a file for FastText input"
   ]
  },
  {
   "cell_type": "code",
   "execution_count": 42,
   "id": "af8cbb4b",
   "metadata": {},
   "outputs": [],
   "source": [
    "with open(\"FastText_input.txt\", 'w+') as f:\n",
    "    for values in df[\"Value\"]:\n",
    "        f.write(values + \"\\n\")"
   ]
  },
  {
   "cell_type": "markdown",
   "id": "fbdd820a",
   "metadata": {},
   "source": [
    "### Create model "
   ]
  },
  {
   "cell_type": "code",
   "execution_count": 109,
   "id": "7a18d37d",
   "metadata": {},
   "outputs": [
    {
     "name": "stderr",
     "output_type": "stream",
     "text": [
      "Read 5M words\n",
      "Number of words:  281132\n",
      "Number of labels: 2\n",
      "Progress: 100.0% words/sec/thread: 2805986 lr:  0.000000 avg.loss:  0.427186 ETA:   0h 0m 0s 67.4% words/sec/thread: 2791510 lr:  0.032629 avg.loss:  0.485156 ETA:   0h 0m 1s\n"
     ]
    }
   ],
   "source": [
    "model = fasttext.train_supervised(\"FastText_input.txt\")"
   ]
  },
  {
   "cell_type": "markdown",
   "id": "8815b062",
   "metadata": {},
   "source": [
    "### Save model"
   ]
  },
  {
   "cell_type": "code",
   "execution_count": 110,
   "id": "91736b5e",
   "metadata": {},
   "outputs": [],
   "source": [
    "model.save_model(\"model.bin\")"
   ]
  },
  {
   "cell_type": "markdown",
   "id": "649f8ac1",
   "metadata": {},
   "source": [
    "### Test model predictions"
   ]
  },
  {
   "cell_type": "code",
   "execution_count": 111,
   "id": "66293e0b",
   "metadata": {},
   "outputs": [
    {
     "data": {
      "text/plain": [
       "(('__label__positive',), array([0.99994802]))"
      ]
     },
     "execution_count": 111,
     "metadata": {},
     "output_type": "execute_result"
    }
   ],
   "source": [
    "model.predict(\"I loved this movie !\")"
   ]
  },
  {
   "cell_type": "code",
   "execution_count": 112,
   "id": "f4ba1331",
   "metadata": {},
   "outputs": [
    {
     "data": {
      "text/plain": [
       "(('__label__negative',), array([0.98021179]))"
      ]
     },
     "execution_count": 112,
     "metadata": {},
     "output_type": "execute_result"
    }
   ],
   "source": [
    "model.predict(\"I hated this movie !\")"
   ]
  },
  {
   "cell_type": "code",
   "execution_count": 113,
   "id": "e1eae3f4",
   "metadata": {},
   "outputs": [
    {
     "data": {
      "text/plain": [
       "(('__label__positive',), array([0.97754908]))"
      ]
     },
     "execution_count": 113,
     "metadata": {},
     "output_type": "execute_result"
    }
   ],
   "source": [
    "model.predict(\"I did not enjoyed it as I should have\")"
   ]
  },
  {
   "cell_type": "code",
   "execution_count": 114,
   "id": "d8056087",
   "metadata": {},
   "outputs": [
    {
     "data": {
      "text/plain": [
       "(('__label__negative',), array([0.86012012]))"
      ]
     },
     "execution_count": 114,
     "metadata": {},
     "output_type": "execute_result"
    }
   ],
   "source": [
    "model.predict(\"I really enjoyed how bad the actors played\")"
   ]
  },
  {
   "cell_type": "markdown",
   "id": "b19679e6",
   "metadata": {},
   "source": [
    "### Test our accuracy"
   ]
  },
  {
   "cell_type": "code",
   "execution_count": 115,
   "id": "34b0127d",
   "metadata": {},
   "outputs": [],
   "source": [
    "def pred_tests(x_test, y_test, model):\n",
    "    \"\"\"\n",
    "    Calculate accuracy of predictions for a model\n",
    "    \n",
    "    Input:\n",
    "        x_test : list of sentences to predict\n",
    "        y_test : list of labels for x_test sentences\n",
    "        model : model to predict from\n",
    "        \n",
    "    Output:\n",
    "        List of predictions\n",
    "    \"\"\"\n",
    "    \n",
    "    preds = []\n",
    "    \n",
    "    number_doc = len(x_test)\n",
    "    \n",
    "    for i in range(number_doc):\n",
    "        pred = model.predict(x_test[i])\n",
    "        \n",
    "        #\n",
    "        if pred[0][0] == '__label__negative':\n",
    "            preds.append(0)\n",
    "        else:\n",
    "            preds.append(1)\n",
    "                \n",
    "    return preds"
   ]
  },
  {
   "cell_type": "code",
   "execution_count": 116,
   "id": "908ef1cd",
   "metadata": {},
   "outputs": [
    {
     "name": "stdout",
     "output_type": "stream",
     "text": [
      "CPU times: user 1.59 s, sys: 65 ms, total: 1.66 s\n",
      "Wall time: 1.66 s\n"
     ]
    }
   ],
   "source": [
    "%%time\n",
    "y_pred = pred_tests(x_test, y_test, model)"
   ]
  },
  {
   "cell_type": "code",
   "execution_count": 117,
   "id": "a5bf579d",
   "metadata": {},
   "outputs": [],
   "source": [
    "from sklearn.metrics import classification_report"
   ]
  },
  {
   "cell_type": "code",
   "execution_count": 118,
   "id": "0439a559",
   "metadata": {},
   "outputs": [
    {
     "name": "stdout",
     "output_type": "stream",
     "text": [
      "              precision    recall  f1-score   support\n",
      "\n",
      "           0       0.86      0.86      0.86     12500\n",
      "           1       0.86      0.86      0.86     12500\n",
      "\n",
      "    accuracy                           0.86     25000\n",
      "   macro avg       0.86      0.86      0.86     25000\n",
      "weighted avg       0.86      0.86      0.86     25000\n",
      "\n"
     ]
    }
   ],
   "source": [
    "print(classification_report(y_test, y_pred))"
   ]
  },
  {
   "cell_type": "markdown",
   "id": "8411426c",
   "metadata": {},
   "source": [
    "### Hyperparameters fitting"
   ]
  },
  {
   "cell_type": "markdown",
   "id": "3109e818",
   "metadata": {},
   "source": [
    "#### Creating val and train dataset for hyperparameters tuning"
   ]
  },
  {
   "cell_type": "code",
   "execution_count": 119,
   "id": "4d93bb36",
   "metadata": {},
   "outputs": [],
   "source": [
    "def df_to_FastText_file(value_column:pd.DataFrame, file_name:str):\n",
    "    \"\"\"\n",
    "    Create a file with FastText Format from a DataFrame\n",
    "    \n",
    "    Input:\n",
    "        value_column : column of dataFrame containing formatted values\n",
    "        file_name : name of the file to create\n",
    "        \n",
    "    Output: None\n",
    "    \"\"\"\n",
    "    \n",
    "    with open(file_name, \"w+\") as f:\n",
    "        for values in value_column:\n",
    "            f.write(values + \"\\n\")"
   ]
  },
  {
   "cell_type": "code",
   "execution_count": 120,
   "id": "2d106a9f",
   "metadata": {},
   "outputs": [],
   "source": [
    "# Create val dataset as FastText input file\n",
    "df_to_FastText_file(df[:2000][\"Value\"],\"FastText_val.txt\")"
   ]
  },
  {
   "cell_type": "code",
   "execution_count": 123,
   "id": "a181c71b",
   "metadata": {},
   "outputs": [],
   "source": [
    "# Create train dataset as FastText input file\n",
    "df_to_FastText_file(df[2000:][\"Value\"], \"FastText_train.txt\")"
   ]
  },
  {
   "cell_type": "markdown",
   "id": "1f4b8f6d",
   "metadata": {},
   "source": [
    "#### Use FastText hyperparameters tuning method"
   ]
  },
  {
   "cell_type": "code",
   "execution_count": 125,
   "id": "9391c221",
   "metadata": {
    "scrolled": true
   },
   "outputs": [
    {
     "name": "stderr",
     "output_type": "stream",
     "text": [
      "\n",
      "Aborting autotune...\n",
      "\n",
      "Training again with best arguments\n",
      "Read 5M words\n",
      "Number of words:  266902\n",
      "Number of labels: 2\n",
      "Progress: 100.0% words/sec/thread:  352928 lr:  0.000000 avg.loss:  0.039604 ETA:   0h 0m 0s  0.2% words/sec/thread:  269543 lr:  0.442348 avg.loss:  0.694788 ETA:   0h10m42s  0.2% words/sec/thread:  272075 lr:  0.442197 avg.loss:  0.694770 ETA:   0h10m36s  2.6% words/sec/thread:  341562 lr:  0.431503 avg.loss:  0.462021 ETA:   0h 8m14s  3.4% words/sec/thread:  345684 lr:  0.427993 avg.loss:  0.414653 ETA:   0h 8m 4s  4.4% words/sec/thread:  348186 lr:  0.423841 avg.loss:  0.379316 ETA:   0h 7m56s  4.6% words/sec/thread:  348538 lr:  0.422895 avg.loss:  0.372985 ETA:   0h 7m54s  8.2% words/sec/thread:  350429 lr:  0.406847 avg.loss:  0.292642 ETA:   0h 7m34s  9.4% words/sec/thread:  351392 lr:  0.401656 avg.loss:  0.274278 ETA:   0h 7m27s 11.0% words/sec/thread:  352534 lr:  0.394387 avg.loss:  0.252639 ETA:   0h 7m17s 13.2% words/sec/thread:  353232 lr:  0.384831 avg.loss:  0.228100 ETA:   0h 7m 6s 13.8% words/sec/thread:  353465 lr:  0.381896 avg.loss:  0.221513 ETA:   0h 7m 2s 14.0% words/sec/thread:  353455 lr:  0.380964 avg.loss:  0.219299 ETA:   0h 7m 1s 15.0% words/sec/thread:  353723 lr:  0.376627 avg.loss:  0.210184 ETA:   0h 6m56s 17.2% words/sec/thread:  354504 lr:  0.366853 avg.loss:  0.191277 ETA:   0h 6m44s 17.7% words/sec/thread:  354518 lr:  0.364888 avg.loss:  0.187997 ETA:   0h 6m42s 18.1% words/sec/thread:  354543 lr:  0.363202 avg.loss:  0.184988 ETA:   0h 6m40s 19.3% words/sec/thread:  353333 lr:  0.357607 avg.loss:  0.175715 ETA:   0h 6m36s 19.8% words/sec/thread:  353037 lr:  0.355636 avg.loss:  0.172741 ETA:   0h 6m34s 22.6% words/sec/thread:  352079 lr:  0.343100 avg.loss:  0.154918 ETA:   0h 6m21s 25.8% words/sec/thread:  352584 lr:  0.328957 avg.loss:  0.138414 ETA:   0h 6m 5s 26.2% words/sec/thread:  352600 lr:  0.327190 avg.loss:  0.136587 ETA:   0h 6m 3s 26.6% words/sec/thread:  352584 lr:  0.325150 avg.loss:  0.134515 ETA:   0h 6m 0s 27.6% words/sec/thread:  352677 lr:  0.321044 avg.loss:  0.130502 ETA:   0h 5m56s 30.9% words/sec/thread:  352768 lr:  0.306342 avg.loss:  0.117783 ETA:   0h 5m39s 37.4% words/sec/thread:  353410 lr:  0.277657 avg.loss:  0.098859 ETA:   0h 5m 7s 41.4% words/sec/thread:  353400 lr:  0.259609 avg.loss:  0.089779 ETA:   0h 4m47s 42.1% words/sec/thread:  353471 lr:  0.256683 avg.loss:  0.088457 ETA:   0h 4m44s 44.5% words/sec/thread:  353387 lr:  0.245862 avg.loss:  0.083928 ETA:   0h 4m32s 45.2% words/sec/thread:  353382 lr:  0.243069 avg.loss:  0.082836 ETA:   0h 4m29s 45.9% words/sec/thread:  353423 lr:  0.239968 avg.loss:  0.081628 ETA:   0h 4m25s 49.0% words/sec/thread:  353330 lr:  0.225900 avg.loss:  0.076697 ETA:   0h 4m10s 49.2% words/sec/thread:  353312 lr:  0.225352 avg.loss:  0.076525 ETA:   0h 4m 9s 51.4% words/sec/thread:  353297 lr:  0.215534 avg.loss:  0.073426 ETA:   0h 3m58s 51.8% words/sec/thread:  353302 lr:  0.213670 avg.loss:  0.072881 ETA:   0h 3m56s 66.5% words/sec/thread:  353257 lr:  0.148326 avg.loss:  0.057639 ETA:   0h 2m44s 67.8% words/sec/thread:  353254 lr:  0.142572 avg.loss:  0.056616 ETA:   0h 2m37s 68.2% words/sec/thread:  353263 lr:  0.141081 avg.loss:  0.056369 ETA:   0h 2m36s 68.9% words/sec/thread:  353266 lr:  0.138012 avg.loss:  0.055856 ETA:   0h 2m32s 71.4% words/sec/thread:  353074 lr:  0.126679 avg.loss:  0.054000 ETA:   0h 2m20s 76.1% words/sec/thread:  352994 lr:  0.105879 avg.loss:  0.050899 ETA:   0h 1m57s 77.8% words/sec/thread:  353071 lr:  0.098506 avg.loss:  0.049889 ETA:   0h 1m49s 77.9% words/sec/thread:  353057 lr:  0.097962 avg.loss:  0.049812 ETA:   0h 1m48s 79.1% words/sec/thread:  353043 lr:  0.092430 avg.loss:  0.049094 ETA:   0h 1m42s 80.9% words/sec/thread:  353056 lr:  0.084681 avg.loss:  0.048121 ETA:   0h 1m33s 84.5% words/sec/thread:  353045 lr:  0.068781 avg.loss:  0.046246 ETA:   0h 1m16s 90.0% words/sec/thread:  353066 lr:  0.044259 avg.loss:  0.043625 ETA:   0h 0m49s 91.7% words/sec/thread:  353108 lr:  0.036717 avg.loss:  0.042875 ETA:   0h 0m40s 91.8% words/sec/thread:  353096 lr:  0.036164 avg.loss:  0.042821 ETA:   0h 0m40s 91.9% words/sec/thread:  353094 lr:  0.035702 avg.loss:  0.042774 ETA:   0h 0m39s 93.5% words/sec/thread:  353110 lr:  0.028877 avg.loss:  0.042121 ETA:   0h 0m32s 94.6% words/sec/thread:  353131 lr:  0.023950 avg.loss:  0.041668 ETA:   0h 0m26s 96.6% words/sec/thread:  353010 lr:  0.015057 avg.loss:  0.040866 ETA:   0h 0m16s 97.1% words/sec/thread:  352958 lr:  0.012769 avg.loss:  0.040673 ETA:   0h 0m14s 97.3% words/sec/thread:  352960 lr:  0.011822 avg.loss:  0.040594 ETA:   0h 0m13s 97.4% words/sec/thread:  352964 lr:  0.011632 avg.loss:  0.040578 ETA:   0h 0m12s 98.2% words/sec/thread:  352964 lr:  0.008168 avg.loss:  0.040281 ETA:   0h 0m 9s 99.8% words/sec/thread:  352970 lr:  0.001077 avg.loss:  0.039687 ETA:   0h 0m 1s\n"
     ]
    }
   ],
   "source": [
    "tuned_model = fasttext.train_supervised(input='FastText_train.txt', autotuneValidationFile='FastText_val.txt', autotuneDuration=60)"
   ]
  },
  {
   "cell_type": "code",
   "execution_count": 127,
   "id": "edd43d72",
   "metadata": {},
   "outputs": [
    {
     "name": "stdout",
     "output_type": "stream",
     "text": [
      "              precision    recall  f1-score   support\n",
      "\n",
      "           0       0.87      0.87      0.87     12500\n",
      "           1       0.87      0.86      0.87     12500\n",
      "\n",
      "    accuracy                           0.87     25000\n",
      "   macro avg       0.87      0.87      0.87     25000\n",
      "weighted avg       0.87      0.87      0.87     25000\n",
      "\n",
      "CPU times: user 6.47 s, sys: 199 ms, total: 6.67 s\n",
      "Wall time: 7.1 s\n"
     ]
    }
   ],
   "source": [
    "%%time\n",
    "y_pred_tuned = pred_tests(x_test, y_test, tuned_model)\n",
    "print(classification_report(y_test, y_pred_tuned))"
   ]
  },
  {
   "cell_type": "markdown",
   "id": "b98f076f",
   "metadata": {},
   "source": [
    "### Testing pretreatment methods"
   ]
  },
  {
   "cell_type": "code",
   "execution_count": 132,
   "id": "cbf49481",
   "metadata": {},
   "outputs": [],
   "source": [
    "def full_predict(x_train:list, y_train:list ,x_test:list, y_test:list, file_name:str):\n",
    "    \"\"\"\n",
    "    Predict samples from x_test using FastText trained model with x_train samples.\n",
    "    \n",
    "    Input:\n",
    "        x_train: list of samples (train)\n",
    "        y_train: list of labels (train)\n",
    "        x_test: list of samples (test)\n",
    "        y_test: list of labels (test)\n",
    "        file_name: name of file created for FastText input formatting\n",
    "    \"\"\"\n",
    "    # Create dataframe\n",
    "    df = pd.DataFrame({'Value':x_train, 'Positive':y_train})\n",
    "    \n",
    "    # Format samples\n",
    "    df[\"Value\"] = df.apply(lambda x: add_label(x.Value, x.Positive), axis=1)\n",
    "    \n",
    "    # Shuffle data\n",
    "    df = df.sample(frac=1).reset_index(drop=True)\n",
    "    \n",
    "    # Create file\n",
    "    with open(file_name, 'w+') as f:\n",
    "        for values in df[\"Value\"]:\n",
    "            f.write(values + \"\\n\")\n",
    "            \n",
    "    # Train model\n",
    "    print(\"Training model\")\n",
    "    model = fasttext.train_supervised(file_name)\n",
    "    \n",
    "    # Predict test\n",
    "    print(\"Predicting test samples\")\n",
    "    y_pred = pred_tests(x_test, y_test, model)\n",
    "    \n",
    "    # Print scores\n",
    "    print(classification_report(y_test, y_pred))\n",
    "    \n",
    "    return (model, y_pred)"
   ]
  },
  {
   "cell_type": "code",
   "execution_count": 134,
   "id": "34eab7f0",
   "metadata": {},
   "outputs": [
    {
     "name": "stdout",
     "output_type": "stream",
     "text": [
      "Training model\n"
     ]
    },
    {
     "name": "stderr",
     "output_type": "stream",
     "text": [
      "Read 5M words\n",
      "Number of words:  281132\n",
      "Number of labels: 2\n",
      "Progress: 100.0% words/sec/thread: 2345249 lr:  0.000000 avg.loss:  0.428306 ETA:   0h 0m 0s 71.9% words/sec/thread: 2306561 lr:  0.028140 avg.loss:  0.475197 ETA:   0h 0m 1s\n"
     ]
    },
    {
     "name": "stdout",
     "output_type": "stream",
     "text": [
      "Predicting test samples\n",
      "              precision    recall  f1-score   support\n",
      "\n",
      "           0       0.86      0.86      0.86     12500\n",
      "           1       0.86      0.86      0.86     12500\n",
      "\n",
      "    accuracy                           0.86     25000\n",
      "   macro avg       0.86      0.86      0.86     25000\n",
      "weighted avg       0.86      0.86      0.86     25000\n",
      "\n"
     ]
    }
   ],
   "source": [
    "%%time\n",
    "test_model, test_pred = full_predict(x_train, y_train, x_test, y_test, \"TEST_func.txt\")"
   ]
  }
 ],
 "metadata": {
  "kernelspec": {
   "display_name": "Console Py",
   "language": "python",
   "name": "console_py"
  },
  "language_info": {
   "codemirror_mode": {
    "name": "ipython",
    "version": 3
   },
   "file_extension": ".py",
   "mimetype": "text/x-python",
   "name": "python",
   "nbconvert_exporter": "python",
   "pygments_lexer": "ipython3",
   "version": "3.9.1"
  }
 },
 "nbformat": 4,
 "nbformat_minor": 5
}
