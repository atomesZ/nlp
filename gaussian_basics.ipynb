{
 "cells": [
  {
   "cell_type": "code",
   "execution_count": 1,
   "metadata": {},
   "outputs": [
    {
     "name": "stderr",
     "output_type": "stream",
     "text": [
      "Reusing dataset imdb (/home/atomesz/.cache/huggingface/datasets/imdb/plain_text/1.0.0/e3c66f1788a67a89c7058d97ff62b6c30531e05b549de56d3ab91891f0561f9a)\n"
     ]
    },
    {
     "data": {
      "application/vnd.jupyter.widget-view+json": {
       "model_id": "2613d50ccfa24daa9fcc077448ce53a3",
       "version_major": 2,
       "version_minor": 0
      },
      "text/plain": [
       "  0%|          | 0/3 [00:00<?, ?it/s]"
      ]
     },
     "metadata": {},
     "output_type": "display_data"
    }
   ],
   "source": [
    "import datasets\n",
    "import numpy\n",
    "from datasets import load_dataset\n",
    "\n",
    "dataset : datasets.dataset_dict.DatasetDict = load_dataset(\"imdb\")"
   ]
  },
  {
   "cell_type": "code",
   "execution_count": 2,
   "metadata": {},
   "outputs": [],
   "source": [
    "x_train : list = dataset[\"train\"][\"text\"]\n",
    "y_train : list = dataset[\"train\"][\"label\"]\n",
    "\n",
    "x_test : list = dataset[\"test\"][\"text\"]\n",
    "y_test : list = dataset[\"test\"][\"label\"]"
   ]
  },
  {
   "cell_type": "code",
   "execution_count": 3,
   "metadata": {},
   "outputs": [],
   "source": [
    "from multiprocessing import Pool\n",
    "from sklearn.feature_extraction.text import CountVectorizer\n",
    "from sklearn.naive_bayes import GaussianNB\n",
    "from sklearn.metrics import classification_report\n",
    "\n",
    "import functools\n",
    "\n",
    "\n",
    "def get_gnb_score(preprocess_func, binary:bool = False, remove_stopwords: bool = False):\n",
    "    \"\"\"\n",
    "    Get the score of the Gaussian Naive Bayes\n",
    "    \n",
    "    Parameters\n",
    "    ----------\n",
    "    preprocess_func : function\n",
    "        A function from preprocessing: 'basic', 'stemming' or 'lemming'\n",
    "    \n",
    "    binary : bool\n",
    "        A boolean to choose if CountVectorizer count as binary or not\n",
    "        \n",
    "    remove_stopwords : bool\n",
    "        A boolean to choose if the preprocessing function also remove stopwords\n",
    "\n",
    "    Returns\n",
    "    -------\n",
    "    None\n",
    "        But it print the results of the classification_report (precision, recall, f1-score..) per classes\n",
    "    \"\"\"\n",
    "    # We apply our preprocessing function to the training set\n",
    "    with Pool() as p:\n",
    "        preprocessed_x_train : list = p.map(functools.partial(preprocess_func, remove_stopwords=remove_stopwords), x_train)\n",
    "        \n",
    "    vectorizer : CountVectorizer = CountVectorizer(max_features=1000, binary=binary)\n",
    "    X : numpy.ndarray = vectorizer.fit_transform(preprocessed_x_train).toarray()\n",
    "    \n",
    "    gnb : GaussianNB = GaussianNB()\n",
    "    gnb.fit(X, y_train)\n",
    "\n",
    "    # We apply our preprocessing function to the testing set\n",
    "    with Pool() as p:\n",
    "        preprocessed_x_test : list = p.map(functools.partial(preprocess_func, remove_stopwords=remove_stopwords), x_test)\n",
    "        \n",
    "    X_test : numpy.ndarray = vectorizer.transform(preprocessed_x_test).toarray()\n",
    "    \n",
    "    y_pred : numpy.ndarray = gnb.predict(X_test)\n",
    "    \n",
    "    print(classification_report(y_test, y_pred))"
   ]
  },
  {
   "cell_type": "code",
   "execution_count": 4,
   "metadata": {},
   "outputs": [
    {
     "name": "stderr",
     "output_type": "stream",
     "text": [
      "[nltk_data] Downloading package stopwords to\n",
      "[nltk_data]     /home/atomesz/nltk_data...\n",
      "[nltk_data]   Package stopwords is already up-to-date!\n",
      "[nltk_data] Downloading package punkt to /home/atomesz/nltk_data...\n",
      "[nltk_data]   Package punkt is already up-to-date!\n"
     ]
    }
   ],
   "source": [
    "from preprocessing import *"
   ]
  },
  {
   "cell_type": "markdown",
   "metadata": {},
   "source": [
    "# Without preprocessing"
   ]
  },
  {
   "cell_type": "code",
   "execution_count": 5,
   "metadata": {},
   "outputs": [
    {
     "name": "stdout",
     "output_type": "stream",
     "text": [
      "              precision    recall  f1-score   support\n",
      "\n",
      "           0       0.78      0.84      0.81     12500\n",
      "           1       0.83      0.77      0.80     12500\n",
      "\n",
      "    accuracy                           0.80     25000\n",
      "   macro avg       0.80      0.80      0.80     25000\n",
      "weighted avg       0.80      0.80      0.80     25000\n",
      "\n"
     ]
    }
   ],
   "source": [
    "get_gnb_score(basic)"
   ]
  },
  {
   "cell_type": "markdown",
   "metadata": {},
   "source": [
    "# Stopwords removal"
   ]
  },
  {
   "cell_type": "code",
   "execution_count": 6,
   "metadata": {},
   "outputs": [
    {
     "name": "stdout",
     "output_type": "stream",
     "text": [
      "              precision    recall  f1-score   support\n",
      "\n",
      "           0       0.76      0.84      0.80     12500\n",
      "           1       0.82      0.74      0.78     12500\n",
      "\n",
      "    accuracy                           0.79     25000\n",
      "   macro avg       0.79      0.79      0.79     25000\n",
      "weighted avg       0.79      0.79      0.79     25000\n",
      "\n"
     ]
    }
   ],
   "source": [
    "get_gnb_score(basic, remove_stopwords=True)"
   ]
  },
  {
   "cell_type": "markdown",
   "metadata": {},
   "source": [
    "# Stemming"
   ]
  },
  {
   "cell_type": "code",
   "execution_count": 7,
   "metadata": {},
   "outputs": [
    {
     "name": "stdout",
     "output_type": "stream",
     "text": [
      "              precision    recall  f1-score   support\n",
      "\n",
      "           0       0.72      0.85      0.78     12500\n",
      "           1       0.82      0.67      0.74     12500\n",
      "\n",
      "    accuracy                           0.76     25000\n",
      "   macro avg       0.77      0.76      0.76     25000\n",
      "weighted avg       0.77      0.76      0.76     25000\n",
      "\n"
     ]
    }
   ],
   "source": [
    "get_gnb_score(stemming, remove_stopwords=False)"
   ]
  },
  {
   "cell_type": "markdown",
   "metadata": {},
   "source": [
    "# Stopwords removal + Stemming"
   ]
  },
  {
   "cell_type": "code",
   "execution_count": 8,
   "metadata": {},
   "outputs": [
    {
     "name": "stdout",
     "output_type": "stream",
     "text": [
      "              precision    recall  f1-score   support\n",
      "\n",
      "           0       0.73      0.84      0.78     12500\n",
      "           1       0.81      0.68      0.74     12500\n",
      "\n",
      "    accuracy                           0.76     25000\n",
      "   macro avg       0.77      0.76      0.76     25000\n",
      "weighted avg       0.77      0.76      0.76     25000\n",
      "\n"
     ]
    }
   ],
   "source": [
    "get_gnb_score(stemming, remove_stopwords=True)"
   ]
  },
  {
   "cell_type": "markdown",
   "metadata": {},
   "source": [
    "# Lemming"
   ]
  },
  {
   "cell_type": "code",
   "execution_count": 9,
   "metadata": {},
   "outputs": [
    {
     "name": "stdout",
     "output_type": "stream",
     "text": [
      "              precision    recall  f1-score   support\n",
      "\n",
      "           0       0.74      0.84      0.79     12500\n",
      "           1       0.82      0.70      0.76     12500\n",
      "\n",
      "    accuracy                           0.77     25000\n",
      "   macro avg       0.78      0.77      0.77     25000\n",
      "weighted avg       0.78      0.77      0.77     25000\n",
      "\n"
     ]
    }
   ],
   "source": [
    "get_gnb_score(lemming, remove_stopwords=False)"
   ]
  },
  {
   "cell_type": "markdown",
   "metadata": {},
   "source": [
    "# Stopwords removal + Lemming"
   ]
  },
  {
   "cell_type": "code",
   "execution_count": 10,
   "metadata": {},
   "outputs": [
    {
     "name": "stdout",
     "output_type": "stream",
     "text": [
      "              precision    recall  f1-score   support\n",
      "\n",
      "           0       0.72      0.85      0.78     12500\n",
      "           1       0.81      0.68      0.74     12500\n",
      "\n",
      "    accuracy                           0.76     25000\n",
      "   macro avg       0.77      0.76      0.76     25000\n",
      "weighted avg       0.77      0.76      0.76     25000\n",
      "\n"
     ]
    }
   ],
   "source": [
    "get_gnb_score(lemming, remove_stopwords=True)"
   ]
  },
  {
   "cell_type": "markdown",
   "metadata": {},
   "source": [
    "# This time with binary version"
   ]
  },
  {
   "cell_type": "code",
   "execution_count": 11,
   "metadata": {},
   "outputs": [
    {
     "name": "stdout",
     "output_type": "stream",
     "text": [
      "              precision    recall  f1-score   support\n",
      "\n",
      "           0       0.82      0.82      0.82     12500\n",
      "           1       0.82      0.82      0.82     12500\n",
      "\n",
      "    accuracy                           0.82     25000\n",
      "   macro avg       0.82      0.82      0.82     25000\n",
      "weighted avg       0.82      0.82      0.82     25000\n",
      "\n"
     ]
    }
   ],
   "source": [
    "get_gnb_score(basic, binary=True)"
   ]
  },
  {
   "cell_type": "code",
   "execution_count": 12,
   "metadata": {},
   "outputs": [
    {
     "name": "stdout",
     "output_type": "stream",
     "text": [
      "              precision    recall  f1-score   support\n",
      "\n",
      "           0       0.81      0.82      0.82     12500\n",
      "           1       0.82      0.81      0.81     12500\n",
      "\n",
      "    accuracy                           0.81     25000\n",
      "   macro avg       0.81      0.81      0.81     25000\n",
      "weighted avg       0.81      0.81      0.81     25000\n",
      "\n"
     ]
    }
   ],
   "source": [
    "get_gnb_score(basic, binary=True, remove_stopwords=True)"
   ]
  },
  {
   "cell_type": "code",
   "execution_count": 13,
   "metadata": {},
   "outputs": [
    {
     "name": "stdout",
     "output_type": "stream",
     "text": [
      "              precision    recall  f1-score   support\n",
      "\n",
      "           0       0.80      0.82      0.81     12500\n",
      "           1       0.82      0.79      0.80     12500\n",
      "\n",
      "    accuracy                           0.81     25000\n",
      "   macro avg       0.81      0.81      0.81     25000\n",
      "weighted avg       0.81      0.81      0.81     25000\n",
      "\n"
     ]
    }
   ],
   "source": [
    "get_gnb_score(stemming, binary=True, remove_stopwords=False)"
   ]
  },
  {
   "cell_type": "code",
   "execution_count": 14,
   "metadata": {},
   "outputs": [
    {
     "name": "stdout",
     "output_type": "stream",
     "text": [
      "              precision    recall  f1-score   support\n",
      "\n",
      "           0       0.80      0.82      0.81     12500\n",
      "           1       0.82      0.80      0.81     12500\n",
      "\n",
      "    accuracy                           0.81     25000\n",
      "   macro avg       0.81      0.81      0.81     25000\n",
      "weighted avg       0.81      0.81      0.81     25000\n",
      "\n"
     ]
    }
   ],
   "source": [
    "get_gnb_score(stemming, binary=True, remove_stopwords=True)"
   ]
  },
  {
   "cell_type": "code",
   "execution_count": 15,
   "metadata": {},
   "outputs": [
    {
     "name": "stdout",
     "output_type": "stream",
     "text": [
      "              precision    recall  f1-score   support\n",
      "\n",
      "           0       0.80      0.82      0.81     12500\n",
      "           1       0.81      0.79      0.80     12500\n",
      "\n",
      "    accuracy                           0.80     25000\n",
      "   macro avg       0.80      0.80      0.80     25000\n",
      "weighted avg       0.80      0.80      0.80     25000\n",
      "\n"
     ]
    }
   ],
   "source": [
    "get_gnb_score(lemming, binary=True, remove_stopwords=False)"
   ]
  },
  {
   "cell_type": "code",
   "execution_count": 16,
   "metadata": {},
   "outputs": [
    {
     "name": "stdout",
     "output_type": "stream",
     "text": [
      "              precision    recall  f1-score   support\n",
      "\n",
      "           0       0.79      0.82      0.81     12500\n",
      "           1       0.81      0.79      0.80     12500\n",
      "\n",
      "    accuracy                           0.80     25000\n",
      "   macro avg       0.80      0.80      0.80     25000\n",
      "weighted avg       0.80      0.80      0.80     25000\n",
      "\n"
     ]
    }
   ],
   "source": [
    "get_gnb_score(lemming, binary=True, remove_stopwords=True)"
   ]
  },
  {
   "cell_type": "markdown",
   "metadata": {},
   "source": [
    "# Results analysis\n",
    "\n",
    "The best results are obtained without preprocessing and counting if words are present or not"
   ]
  },
  {
   "cell_type": "code",
   "execution_count": 24,
   "metadata": {},
   "outputs": [],
   "source": [
    "preprocess_func = basic\n",
    "binary: bool = True\n",
    "remove_stopwords: bool = False\n",
    "\n",
    "# We apply our preprocessing function to the training set\n",
    "with Pool() as p:\n",
    "    preprocessed_x_train : list = p.map(functools.partial(preprocess_func, remove_stopwords=remove_stopwords), x_train)\n",
    "\n",
    "vectorizer : CountVectorizer = CountVectorizer(max_features=1000, binary=binary)\n",
    "X : numpy.ndarray = vectorizer.fit_transform(preprocessed_x_train).toarray()\n",
    "\n",
    "gnb : GaussianNB = GaussianNB()\n",
    "gnb.fit(X, y_train)\n",
    "\n",
    "# We apply our preprocessing function to the testing set\n",
    "with Pool() as p:\n",
    "    preprocessed_x_test : list = p.map(functools.partial(preprocess_func, remove_stopwords=remove_stopwords), x_test)\n",
    "\n",
    "X_test : numpy.ndarray = vectorizer.transform(preprocessed_x_test).toarray()\n",
    "\n",
    "y_pred : numpy.ndarray = gnb.predict(X_test)"
   ]
  },
  {
   "cell_type": "code",
   "execution_count": 26,
   "metadata": {},
   "outputs": [],
   "source": [
    "from analyze import find_wrong_class\n",
    "\n",
    "few_wrong = find_wrong_class(x_test, y_pred, y_test)"
   ]
  },
  {
   "cell_type": "code",
   "execution_count": 29,
   "metadata": {},
   "outputs": [
    {
     "data": {
      "text/plain": [
       "[(\"I went and saw this movie last night after being coaxed to by a few friends of mine. I'll admit that I was reluctant to see it because from what I knew of Ashton Kutcher he was only able to do comedy. I was wrong. Kutcher played the character of Jake Fischer very well, and Kevin Costner played Ben Randall with such professionalism. The sign of a good movie is that it can toy with our emotions. This one did exactly that. The entire theater (which was sold out) was overcome by laughter during the first half of the movie, and were moved to tears during the second half. While exiting the theater I not only saw many women in tears, but many full grown men as well, trying desperately not to let anyone see them crying. This movie was great, and I suggest that you go see it before you judge.\",\n",
       "  0),\n",
       " (\"I first saw this movie on IFC. Which is a great network by the way to see underground films. I watched this movie and was thinking it was going to be pure drama and a story line that doesn't hold water. But it really was a worth while watch. The main character is in such rough shape, and you hate to see him deny help, but no matter what you just can't hate him. His devotion to The Beatles and John Lennon is a great metaphor for his life and the helplessness he feels. <br /><br />The atmosphere of the film is also great. At times, you feel like you can see what he sees, feel what he feels in some situations. This movie does not leave you wanting to know more, or disliking a loophole in the plot. There are NO loopholes (in my opinion). I have always been a fan of foreign films, especially now with movies being made so poorly in America. I really enjoy the foreign settings because I feel it can take you on a trip, and sometimes understand a different culture. This movie did all those things to me and more. Please watch this movie and if you're new to foreign films, this is a great start.\",\n",
       "  0)]"
      ]
     },
     "execution_count": 29,
     "metadata": {},
     "output_type": "execute_result"
    }
   ],
   "source": [
    "few_wrong[:2]"
   ]
  },
  {
   "cell_type": "markdown",
   "metadata": {},
   "source": [
    "If we take those two samples that were mispredicted, we can see that they uses negative words as well so their feelings are more implicit"
   ]
  }
 ],
 "metadata": {
  "kernelspec": {
   "display_name": "ml_env",
   "language": "python",
   "name": "ml_env"
  },
  "language_info": {
   "codemirror_mode": {
    "name": "ipython",
    "version": 3
   },
   "file_extension": ".py",
   "mimetype": "text/x-python",
   "name": "python",
   "nbconvert_exporter": "python",
   "pygments_lexer": "ipython3",
   "version": "3.8.10"
  }
 },
 "nbformat": 4,
 "nbformat_minor": 4
}
