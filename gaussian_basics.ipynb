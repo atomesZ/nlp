{
 "cells": [
  {
   "cell_type": "code",
   "execution_count": 1,
   "metadata": {},
   "outputs": [
    {
     "name": "stderr",
     "output_type": "stream",
     "text": [
      "Reusing dataset imdb (/home/atomesz/.cache/huggingface/datasets/imdb/plain_text/1.0.0/e3c66f1788a67a89c7058d97ff62b6c30531e05b549de56d3ab91891f0561f9a)\n"
     ]
    },
    {
     "data": {
      "application/vnd.jupyter.widget-view+json": {
       "model_id": "8f5e3b7757fb4e7c94bcc3fff914740c",
       "version_major": 2,
       "version_minor": 0
      },
      "text/plain": [
       "  0%|          | 0/3 [00:00<?, ?it/s]"
      ]
     },
     "metadata": {},
     "output_type": "display_data"
    }
   ],
   "source": [
    "from datasets import load_dataset\n",
    "\n",
    "dataset = load_dataset(\"imdb\")"
   ]
  },
  {
   "cell_type": "code",
   "execution_count": 2,
   "metadata": {},
   "outputs": [],
   "source": [
    "x_train = dataset[\"train\"][:][\"text\"]\n",
    "y_train = dataset[\"train\"][:][\"label\"]\n",
    "\n",
    "x_test = dataset[\"test\"][:][\"text\"]\n",
    "y_test = dataset[\"test\"][:][\"label\"]"
   ]
  },
  {
   "cell_type": "code",
   "execution_count": 3,
   "metadata": {},
   "outputs": [],
   "source": [
    "import spacy\n",
    "\n",
    "# loading the small English model\n",
    "nlp = spacy.load(\"en_core_web_sm\")"
   ]
  },
  {
   "cell_type": "code",
   "execution_count": 4,
   "metadata": {},
   "outputs": [],
   "source": [
    "import re\n",
    "from multiprocessing import Pool\n",
    "from sklearn.feature_extraction.text import CountVectorizer\n",
    "from sklearn.naive_bayes import GaussianNB\n",
    "from sklearn.metrics import classification_report\n",
    "\n",
    "re_word = re.compile(r\"^\\w+$\")\n",
    "\n",
    "def get_gnb_score():  \n",
    "    # We apply our preprocessing function to the training set\n",
    "    with Pool() as p:\n",
    "        preprocessed_x_train = p.map(preprocess_str, x_train)\n",
    "        \n",
    "\n",
    "    vectorizer = CountVectorizer(max_features=1000)\n",
    "    X = vectorizer.fit_transform(preprocessed_x_train).toarray()\n",
    "    \n",
    "    gnb = GaussianNB()\n",
    "    gnb.fit(X, y_train)\n",
    "\n",
    "    # We apply our preprocessing function to the testing set\n",
    "    with Pool() as p:\n",
    "        preprocessed_x_test = p.map(preprocess_str, x_test)\n",
    "        \n",
    "    X_test = vectorizer.transform(preprocessed_x_test).toarray()\n",
    "    \n",
    "    y_pred = gnb.predict(X_test)\n",
    "    \n",
    "    print(classification_report(y_test, y_pred))"
   ]
  },
  {
   "cell_type": "markdown",
   "metadata": {},
   "source": [
    "# Without preprocessing"
   ]
  },
  {
   "cell_type": "code",
   "execution_count": 5,
   "metadata": {
    "scrolled": true
   },
   "outputs": [
    {
     "name": "stdout",
     "output_type": "stream",
     "text": [
      "              precision    recall  f1-score   support\n",
      "\n",
      "           0       0.78      0.84      0.81     12500\n",
      "           1       0.83      0.77      0.80     12500\n",
      "\n",
      "    accuracy                           0.80     25000\n",
      "   macro avg       0.80      0.80      0.80     25000\n",
      "weighted avg       0.80      0.80      0.80     25000\n",
      "\n"
     ]
    }
   ],
   "source": [
    "def preprocess_str(text: str):\n",
    "    return text\n",
    "\n",
    "get_gnb_score()"
   ]
  },
  {
   "cell_type": "markdown",
   "metadata": {},
   "source": [
    "# Stopwords removal"
   ]
  },
  {
   "cell_type": "code",
   "execution_count": 6,
   "metadata": {},
   "outputs": [
    {
     "name": "stdout",
     "output_type": "stream",
     "text": [
      "              precision    recall  f1-score   support\n",
      "\n",
      "           0       0.76      0.84      0.80     12500\n",
      "           1       0.82      0.74      0.78     12500\n",
      "\n",
      "    accuracy                           0.79     25000\n",
      "   macro avg       0.79      0.79      0.79     25000\n",
      "weighted avg       0.79      0.79      0.79     25000\n",
      "\n"
     ]
    }
   ],
   "source": [
    "def preprocess_str(text: str):\n",
    "    tokens_str = [str(token) for token in nlp(text.lower()) if re_word.match(token.text) and not token.is_stop]\n",
    "    return \" \".join(tokens_str)\n",
    "\n",
    "get_gnb_score()"
   ]
  },
  {
   "cell_type": "markdown",
   "metadata": {},
   "source": [
    "# Stemming"
   ]
  },
  {
   "cell_type": "code",
   "execution_count": 7,
   "metadata": {},
   "outputs": [
    {
     "name": "stderr",
     "output_type": "stream",
     "text": [
      "[nltk_data] Downloading package stopwords to\n",
      "[nltk_data]     /home/atomesz/nltk_data...\n",
      "[nltk_data]   Package stopwords is already up-to-date!\n"
     ]
    },
    {
     "name": "stdout",
     "output_type": "stream",
     "text": [
      "              precision    recall  f1-score   support\n",
      "\n",
      "           0       0.72      0.85      0.78     12500\n",
      "           1       0.82      0.67      0.74     12500\n",
      "\n",
      "    accuracy                           0.76     25000\n",
      "   macro avg       0.77      0.76      0.76     25000\n",
      "weighted avg       0.77      0.76      0.76     25000\n",
      "\n"
     ]
    }
   ],
   "source": [
    "from nltk.stem.snowball import SnowballStemmer\n",
    "from nltk.corpus import stopwords\n",
    "from nltk.tokenize import word_tokenize\n",
    "import nltk\n",
    "nltk.download('stopwords')\n",
    "\n",
    "stop_words = set(stopwords.words('english'))\n",
    "stemmer = SnowballStemmer(\"english\")\n",
    "\n",
    "def preprocess_str(text: str):\n",
    "\n",
    "    stemmed = [stemmer.stem(word) for word in word_tokenize(text.lower()) if re_word.match(word)]\n",
    "    return \" \".join(stemmed)\n",
    "\n",
    "get_gnb_score()"
   ]
  },
  {
   "cell_type": "markdown",
   "metadata": {},
   "source": [
    "# Stopwords removal + Stemming"
   ]
  },
  {
   "cell_type": "code",
   "execution_count": 8,
   "metadata": {},
   "outputs": [
    {
     "name": "stdout",
     "output_type": "stream",
     "text": [
      "              precision    recall  f1-score   support\n",
      "\n",
      "           0       0.73      0.84      0.78     12500\n",
      "           1       0.81      0.68      0.74     12500\n",
      "\n",
      "    accuracy                           0.76     25000\n",
      "   macro avg       0.77      0.76      0.76     25000\n",
      "weighted avg       0.77      0.76      0.76     25000\n",
      "\n"
     ]
    }
   ],
   "source": [
    "def preprocess_str(text: str):\n",
    "\n",
    "    stemmed = [stemmer.stem(word) for word in word_tokenize(text.lower()) if re_word.match(word) and not word in stop_words]\n",
    "    return \" \".join(stemmed)\n",
    "\n",
    "get_gnb_score()"
   ]
  },
  {
   "cell_type": "markdown",
   "metadata": {},
   "source": [
    "# Lemming"
   ]
  },
  {
   "cell_type": "code",
   "execution_count": 9,
   "metadata": {},
   "outputs": [
    {
     "name": "stdout",
     "output_type": "stream",
     "text": [
      "              precision    recall  f1-score   support\n",
      "\n",
      "           0       0.74      0.84      0.79     12500\n",
      "           1       0.82      0.70      0.76     12500\n",
      "\n",
      "    accuracy                           0.77     25000\n",
      "   macro avg       0.78      0.77      0.77     25000\n",
      "weighted avg       0.78      0.77      0.77     25000\n",
      "\n"
     ]
    }
   ],
   "source": [
    "def preprocess_str(text: str):\n",
    "\n",
    "    lemmas = [token.lemma_ for token in nlp(text.lower()) if re_word.match(token.text)]\n",
    "    return \" \".join(lemmas)\n",
    "\n",
    "get_gnb_score()"
   ]
  },
  {
   "cell_type": "markdown",
   "metadata": {},
   "source": [
    "# Stopwords removal + Lemming"
   ]
  },
  {
   "cell_type": "code",
   "execution_count": 10,
   "metadata": {},
   "outputs": [
    {
     "name": "stdout",
     "output_type": "stream",
     "text": [
      "              precision    recall  f1-score   support\n",
      "\n",
      "           0       0.72      0.85      0.78     12500\n",
      "           1       0.81      0.68      0.74     12500\n",
      "\n",
      "    accuracy                           0.76     25000\n",
      "   macro avg       0.77      0.76      0.76     25000\n",
      "weighted avg       0.77      0.76      0.76     25000\n",
      "\n"
     ]
    }
   ],
   "source": [
    "def preprocess_str(text: str):\n",
    "\n",
    "    lemmas = [token.lemma_ for token in nlp(text.lower()) if re_word.match(token.text) and not token.is_stop]\n",
    "    return \" \".join(lemmas)\n",
    "\n",
    "get_gnb_score()"
   ]
  }
 ],
 "metadata": {
  "kernelspec": {
   "display_name": "ml_env",
   "language": "python",
   "name": "ml_env"
  },
  "language_info": {
   "codemirror_mode": {
    "name": "ipython",
    "version": 3
   },
   "file_extension": ".py",
   "mimetype": "text/x-python",
   "name": "python",
   "nbconvert_exporter": "python",
   "pygments_lexer": "ipython3",
   "version": "3.8.10"
  }
 },
 "nbformat": 4,
 "nbformat_minor": 4
}
